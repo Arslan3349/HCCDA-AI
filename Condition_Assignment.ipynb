{
  "cells": [
    {
      "cell_type": "code",
      "execution_count": null,
      "metadata": {
        "colab": {
          "base_uri": "https://localhost:8080/"
        },
        "id": "7E3JnuL_pRHa",
        "outputId": "6e3c994f-c452-47d9-90fd-f85211632b2a"
      },
      "outputs": [
        {
          "name": "stdout",
          "output_type": "stream",
          "text": [
            "enter your age:16\n",
            "you are not eligibe for vote\n"
          ]
        }
      ],
      "source": [
        "age = int(input(\"enter your age:\"))\n",
        "if age>=18:\n",
        "    print(\"you are eligibele for vote\")\n",
        "else :\n",
        "  print(\"you are not eligibe for vote\")"
      ]
    },
    {
      "cell_type": "code",
      "execution_count": 18,
      "metadata": {
        "colab": {
          "base_uri": "https://localhost:8080/"
        },
        "id": "olVJRzQK58rO",
        "outputId": "7bbefe13-9dc6-4ce1-d18a-a51f721ed774"
      },
      "outputs": [
        {
          "output_type": "stream",
          "name": "stdout",
          "text": [
            "Enter a number: -1\n",
            "The number is Negative.\n"
          ]
        }
      ],
      "source": [
        "number = int(input(\"Enter a number: \"))\n",
        "if number > 0:\n",
        "        print(\"The number is Positive.\")\n",
        "else :\n",
        "        print(\"The number is Negative.\")"
      ]
    },
    {
      "cell_type": "code",
      "source": [
        "number = int(input(\"Enter a number: \"))\n",
        "if number %2== 0:\n",
        "        print(\"The number is even.\")\n",
        "else:\n",
        "        print(\"The number is odd.\")"
      ],
      "metadata": {
        "colab": {
          "base_uri": "https://localhost:8080/"
        },
        "id": "r98ZNzAgAt_-",
        "outputId": "6abfa95e-c4d1-4329-d9e1-ba750aaf913b"
      },
      "execution_count": 20,
      "outputs": [
        {
          "output_type": "stream",
          "name": "stdout",
          "text": [
            "Enter a number: 4\n",
            "The number is even.\n"
          ]
        }
      ]
    },
    {
      "cell_type": "code",
      "execution_count": 12,
      "metadata": {
        "colab": {
          "base_uri": "https://localhost:8080/"
        },
        "id": "RiSNs8Th8N8T",
        "outputId": "1251de63-84e8-44a7-8acd-1e3356280476"
      },
      "outputs": [
        {
          "output_type": "stream",
          "name": "stdout",
          "text": [
            "Enter an integer: 25\n",
            "25 is NOT a multiple of both 3 and 5.\n"
          ]
        }
      ],
      "source": [
        "number = int(input(\"Enter an integer: \"))\n",
        "\n",
        "if number % 3 == 0 and number % 5 == 0:\n",
        "    print(f\"{number} is a multiple of both 3 and 5.\")\n",
        "else:\n",
        "    print(f\"{number} is NOT a multiple of both 3 and 5.\")"
      ]
    },
    {
      "cell_type": "code",
      "source": [
        "# Program to check if the last digit of a number is divisible by 3\n",
        "\n",
        "try:\n",
        "    number = int(input(\"Enter an integer: \"))\n",
        "\n",
        "    last_digit = abs(number) % 10  # Get the last digit (works for negative numbers too)\n",
        "\n",
        "    if last_digit % 3 == 0:\n",
        "        print(f\"The last digit {last_digit} is divisible by 3.\")\n",
        "    else:\n",
        "        print(f\"The last digit {last_digit} is NOT divisible by 3.\")\n",
        "\n",
        "except ValueError:\n",
        "    print(\"Invalid input! Please enter a valid integer.\")\n"
      ],
      "metadata": {
        "id": "hGOBWh7T_Lw_"
      },
      "execution_count": null,
      "outputs": []
    },
    {
      "cell_type": "code",
      "source": [
        "# Program to check if a year is a leap year\n",
        "\n",
        "try:\n",
        "    year = int(input(\"Enter a year: \"))\n",
        "\n",
        "    if (year % 4 == 0 and year % 100 != 0) or (year % 400 == 0):\n",
        "        print(f\"{year} is a Leap Year.\")\n",
        "    else:\n",
        "        print(f\"{year} is NOT a Leap Year.\")\n",
        "\n",
        "except ValueError:\n",
        "    print(\"Invalid input! Please enter a valid year.\")\n"
      ],
      "metadata": {
        "id": "dJfjGhTk_boF"
      },
      "execution_count": null,
      "outputs": []
    },
    {
      "cell_type": "code",
      "source": [
        "# Program to print the day of the week based on number input\n",
        "\n",
        "try:\n",
        "    number = int(input(\"Enter a number (1 to 7): \"))\n",
        "\n",
        "    if number == 1:\n",
        "        print(\"Monday\")\n",
        "    elif number == 2:\n",
        "        print(\"Tuesday\")\n",
        "    elif number == 3:\n",
        "        print(\"Wednesday\")\n",
        "    elif number == 4:\n",
        "        print(\"Thursday\")\n",
        "    elif number == 5:\n",
        "        print(\"Friday\")\n",
        "    elif number == 6:\n",
        "        print(\"Saturday\")\n",
        "    elif number == 7:\n",
        "        print(\"Sunday\")\n",
        "    else:\n",
        "        print(\"Invalid input! Please enter a number between 1 and 7.\")\n",
        "\n",
        "except ValueError:\n",
        "    print(\"Invalid input! Please enter a valid integer.\")\n"
      ],
      "metadata": {
        "colab": {
          "base_uri": "https://localhost:8080/"
        },
        "id": "biNsi-dnAKZo",
        "outputId": "b97e4dea-69f0-433e-fdc8-78e2d0a59554"
      },
      "execution_count": 15,
      "outputs": [
        {
          "output_type": "stream",
          "name": "stdout",
          "text": [
            "Enter a number (1 to 7): 7\n",
            "Sunday\n"
          ]
        }
      ]
    },
    {
      "cell_type": "code",
      "source": [
        "# Program to print \"Hello\" if number is multiple of 5, else \"Bye\"\n",
        "\n",
        "try:\n",
        "    number = int(input(\"Enter a number: \"))\n",
        "\n",
        "    if number % 5 == 0:\n",
        "        print(\"Hello\")\n",
        "    else:\n",
        "        print(\"Bye\")\n",
        "\n",
        "except ValueError:\n",
        "    print(\"Invalid input! Please enter a valid integer.\")\n"
      ],
      "metadata": {
        "id": "n4ujpEvwA9hy"
      },
      "execution_count": null,
      "outputs": []
    },
    {
      "cell_type": "code",
      "source": [
        "# Program to enter two numbers and print which one is greater\n",
        "\n",
        "try:\n",
        "    num1 = float(input(\"Enter the first number: \"))\n",
        "    num2 = float(input(\"Enter the second number: \"))\n",
        "\n",
        "    if num1 > num2:\n",
        "        print(f\"{num1} is greater than {num2}.\")\n",
        "    elif num2 > num1:\n",
        "        print(f\"{num2} is greater than {num1}.\")\n",
        "    else:\n",
        "        print(\"Both numbers are equal.\")\n",
        "\n",
        "except ValueError:\n",
        "    print(\"Invalid input! Please enter valid numeric values.\")\n"
      ],
      "metadata": {
        "id": "KGkuuLKfBhXB"
      },
      "execution_count": null,
      "outputs": []
    },
    {
      "cell_type": "code",
      "source": [
        "# Program to check if the entered character is a vowel or consonant\n",
        "\n",
        "char = input(\"Enter a single alphabet: \")\n",
        "\n",
        "if len(char) == 1 and char.isalpha():\n",
        "    if char.lower() in ['a', 'e', 'i', 'o', 'u']:\n",
        "        print(f\"{char} is a vowel.\")\n",
        "    else:\n",
        "        print(f\"{char} is a consonant.\")\n",
        "else:\n",
        "    print(\"Invalid input! Please enter a single alphabet character.\")\n"
      ],
      "metadata": {
        "id": "YjUL7WaoB3go"
      },
      "execution_count": null,
      "outputs": []
    },
    {
      "cell_type": "code",
      "source": [
        "# Program to get three numbers and print the largest one\n",
        "\n",
        "try:\n",
        "    num1 = float(input(\"Enter the first number: \"))\n",
        "    num2 = float(input(\"Enter the second number: \"))\n",
        "    num3 = float(input(\"Enter the third number: \"))\n",
        "\n",
        "    if num1 >= num2 and num1 >= num3:\n",
        "        print(f\"The largest number is: {num1}\")\n",
        "    elif num2 >= num1 and num2 >= num3:\n",
        "        print(f\"The largest number is: {num2}\")\n",
        "    else:\n",
        "        print(f\"The largest number is: {num3}\")\n",
        "\n",
        "except ValueError:\n",
        "    print(\"Invalid input! Please enter valid numeric values.\")\n"
      ],
      "metadata": {
        "id": "Fq2IX96DB6d6"
      },
      "execution_count": null,
      "outputs": []
    },
    {
      "cell_type": "code",
      "source": [
        "# Program to check if a number is prime or not\n",
        "\n",
        "try:\n",
        "    num = int(input(\"Enter a positive integer: \"))\n",
        "\n",
        "    if num <= 1:\n",
        "        print(f\"{num} is NOT a prime number.\")\n",
        "    else:\n",
        "        is_prime = True\n",
        "        for i in range(2, int(num ** 0.5) + 1):\n",
        "            if num % i == 0:\n",
        "                is_prime = False\n",
        "                break\n",
        "\n",
        "        if is_prime:\n",
        "            print(f\"{num} is a prime number.\")\n",
        "        else:\n",
        "            print(f\"{num} is NOT a prime number.\")\n",
        "\n",
        "except ValueError:\n",
        "    print(\"Invalid input! Please enter a valid integer.\")\n"
      ],
      "metadata": {
        "id": "shPbRr_KCQ-h"
      },
      "execution_count": null,
      "outputs": []
    },
    {
      "cell_type": "code",
      "source": [
        "# Program to check if user can purchase an item of price 100\n",
        "\n",
        "try:\n",
        "    amount = float(input(\"Enter your amount: \"))\n",
        "\n",
        "    if amount >= 100:\n",
        "        print(\"Purchase successful!\")\n",
        "    else:\n",
        "        print(\"Insufficient amount. You cannot buy the item.\")\n",
        "\n",
        "except ValueError:\n",
        "    print(\"Invalid input! Please enter a valid amount.\")\n"
      ],
      "metadata": {
        "id": "zKtqlmGcCS7s"
      },
      "execution_count": null,
      "outputs": []
    },
    {
      "cell_type": "code",
      "source": [
        "# Program to check if a number is single-digit, two-digit, or three-digit\n",
        "\n",
        "try:\n",
        "    number = int(input(\"Enter a number: \"))\n",
        "\n",
        "    abs_number = abs(number)  # To handle negative numbers correctly\n",
        "\n",
        "    if abs_number < 10:\n",
        "        print(\"It is a single-digit number.\")\n",
        "    elif abs_number < 100:\n",
        "        print(\"It is a two-digit number.\")\n",
        "    elif abs_number < 1000:\n",
        "        print(\"It is a three-digit number.\")\n",
        "    else:\n",
        "        print(\"It is more than a three-digit number.\")\n",
        "\n",
        "except ValueError:\n",
        "    print(\"Invalid input! Please enter a valid integer.\")\n"
      ],
      "metadata": {
        "id": "ddSb7pzhCyH9"
      },
      "execution_count": null,
      "outputs": []
    },
    {
      "cell_type": "code",
      "source": [
        "# Program to accept marks and print corresponding grade\n",
        "\n",
        "try:\n",
        "    marks = float(input(\"Enter your marks (0 to 100): \"))\n",
        "\n",
        "    if marks < 0 or marks > 100:\n",
        "        print(\"Invalid marks! Please enter a value between 0 and 100.\")\n",
        "    elif marks >= 90:\n",
        "        print(\"Grade: A\")\n",
        "    elif marks >= 80:\n",
        "        print(\"Grade: B\")\n",
        "    elif marks >= 70:\n",
        "        print(\"Grade: C\")\n",
        "    elif marks >= 60:\n",
        "        print(\"Grade: D\")\n",
        "    else:\n",
        "        print(\"Grade: F\")\n",
        "\n",
        "except ValueError:\n",
        "    print(\"Invalid input! Please enter numeric marks.\")\n"
      ],
      "metadata": {
        "id": "7jVKzPQbJcjA"
      },
      "execution_count": null,
      "outputs": []
    }
  ],
  "metadata": {
    "colab": {
      "provenance": []
    },
    "kernelspec": {
      "display_name": "Python 3",
      "name": "python3"
    },
    "language_info": {
      "name": "python"
    }
  },
  "nbformat": 4,
  "nbformat_minor": 0
}