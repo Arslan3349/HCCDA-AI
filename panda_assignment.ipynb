{
  "nbformat": 4,
  "nbformat_minor": 0,
  "metadata": {
    "colab": {
      "provenance": []
    },
    "kernelspec": {
      "name": "python3",
      "display_name": "Python 3"
    },
    "language_info": {
      "name": "python"
    }
  },
  "cells": [
    {
      "cell_type": "code",
      "execution_count": 1,
      "metadata": {
        "colab": {
          "base_uri": "https://localhost:8080/"
        },
        "id": "P381JYtn0wPn",
        "outputId": "60aaf1b3-bc1d-4f6f-d4ac-a4dfc915a6ed"
      },
      "outputs": [
        {
          "output_type": "stream",
          "name": "stdout",
          "text": [
            "Mounted at /content/drive\n",
            "   PassengerId  Survived  Pclass  \\\n",
            "0          892         0       3   \n",
            "1          893         1       3   \n",
            "2          894         0       2   \n",
            "3          895         0       3   \n",
            "4          896         1       3   \n",
            "\n",
            "                                           Name     Sex   Age  SibSp  Parch  \\\n",
            "0                              Kelly, Mr. James    male  34.5      0      0   \n",
            "1              Wilkes, Mrs. James (Ellen Needs)  female  47.0      1      0   \n",
            "2                     Myles, Mr. Thomas Francis    male  62.0      0      0   \n",
            "3                              Wirz, Mr. Albert    male  27.0      0      0   \n",
            "4  Hirvonen, Mrs. Alexander (Helga E Lindqvist)  female  22.0      1      1   \n",
            "\n",
            "    Ticket     Fare Cabin Embarked  \n",
            "0   330911   7.8292   NaN        Q  \n",
            "1   363272   7.0000   NaN        S  \n",
            "2   240276   9.6875   NaN        Q  \n",
            "3   315154   8.6625   NaN        S  \n",
            "4  3101298  12.2875   NaN        S  \n"
          ]
        }
      ],
      "source": [
        "from google.colab import drive # Import 'drive' module from the 'google.colab' library\n",
        "drive.mount('/content/drive') # This mounts your Google Drive into the Colab virtual environment.\n",
        "\n",
        "import pandas as pd\n",
        "\n",
        "file_path = '/content/drive/MyDrive/Titanicdataset.csv' # 'My Drive' refers to the root directory of Google Drive.\n",
        "df = pd.read_csv(file_path)\n",
        "\n",
        "print(df.head())"
      ]
    },
    {
      "cell_type": "code",
      "source": [
        "# View the last 5 rows\n",
        "print(\"\\nLast 5 rows of the dataset:\")\n",
        "print(df.tail())"
      ],
      "metadata": {
        "colab": {
          "base_uri": "https://localhost:8080/"
        },
        "id": "8Osurvor2cP6",
        "outputId": "313981e5-1e0a-4bef-9973-535379893693"
      },
      "execution_count": 2,
      "outputs": [
        {
          "output_type": "stream",
          "name": "stdout",
          "text": [
            "\n",
            "Last 5 rows of the dataset:\n",
            "     PassengerId  Survived  Pclass                          Name     Sex  \\\n",
            "413         1305         0       3            Spector, Mr. Woolf    male   \n",
            "414         1306         1       1  Oliva y Ocana, Dona. Fermina  female   \n",
            "415         1307         0       3  Saether, Mr. Simon Sivertsen    male   \n",
            "416         1308         0       3           Ware, Mr. Frederick    male   \n",
            "417         1309         0       3      Peter, Master. Michael J    male   \n",
            "\n",
            "      Age  SibSp  Parch              Ticket      Fare Cabin Embarked  \n",
            "413   NaN      0      0           A.5. 3236    8.0500   NaN        S  \n",
            "414  39.0      0      0            PC 17758  108.9000  C105        C  \n",
            "415  38.5      0      0  SOTON/O.Q. 3101262    7.2500   NaN        S  \n",
            "416   NaN      0      0              359309    8.0500   NaN        S  \n",
            "417   NaN      1      1                2668   22.3583   NaN        C  \n"
          ]
        }
      ]
    },
    {
      "cell_type": "code",
      "source": [
        "# Get basic information about the dataset (column names, non-null counts, data types)\n",
        "print(\"\\nBasic Information:\")\n",
        "print(df.info())"
      ],
      "metadata": {
        "colab": {
          "base_uri": "https://localhost:8080/"
        },
        "id": "ZTC8O7VT2fvn",
        "outputId": "7b619b8a-efe0-448b-d984-20b6000e47e4"
      },
      "execution_count": 3,
      "outputs": [
        {
          "output_type": "stream",
          "name": "stdout",
          "text": [
            "\n",
            "Basic Information:\n",
            "<class 'pandas.core.frame.DataFrame'>\n",
            "RangeIndex: 418 entries, 0 to 417\n",
            "Data columns (total 12 columns):\n",
            " #   Column       Non-Null Count  Dtype  \n",
            "---  ------       --------------  -----  \n",
            " 0   PassengerId  418 non-null    int64  \n",
            " 1   Survived     418 non-null    int64  \n",
            " 2   Pclass       418 non-null    int64  \n",
            " 3   Name         418 non-null    object \n",
            " 4   Sex          418 non-null    object \n",
            " 5   Age          332 non-null    float64\n",
            " 6   SibSp        418 non-null    int64  \n",
            " 7   Parch        418 non-null    int64  \n",
            " 8   Ticket       418 non-null    object \n",
            " 9   Fare         417 non-null    float64\n",
            " 10  Cabin        91 non-null     object \n",
            " 11  Embarked     418 non-null    object \n",
            "dtypes: float64(2), int64(5), object(5)\n",
            "memory usage: 39.3+ KB\n",
            "None\n"
          ]
        }
      ]
    },
    {
      "cell_type": "code",
      "source": [
        "# Get statistical summary of numerical columns\n",
        "print(\"\\nStatistical Summary:\")\n",
        "print(df.describe())"
      ],
      "metadata": {
        "colab": {
          "base_uri": "https://localhost:8080/"
        },
        "id": "8qCBPLhp2l8B",
        "outputId": "b9862799-2710-42d6-8d81-cf8c9e04a016"
      },
      "execution_count": 4,
      "outputs": [
        {
          "output_type": "stream",
          "name": "stdout",
          "text": [
            "\n",
            "Statistical Summary:\n",
            "       PassengerId    Survived      Pclass         Age       SibSp  \\\n",
            "count   418.000000  418.000000  418.000000  332.000000  418.000000   \n",
            "mean   1100.500000    0.363636    2.265550   30.272590    0.447368   \n",
            "std     120.810458    0.481622    0.841838   14.181209    0.896760   \n",
            "min     892.000000    0.000000    1.000000    0.170000    0.000000   \n",
            "25%     996.250000    0.000000    1.000000   21.000000    0.000000   \n",
            "50%    1100.500000    0.000000    3.000000   27.000000    0.000000   \n",
            "75%    1204.750000    1.000000    3.000000   39.000000    1.000000   \n",
            "max    1309.000000    1.000000    3.000000   76.000000    8.000000   \n",
            "\n",
            "            Parch        Fare  \n",
            "count  418.000000  417.000000  \n",
            "mean     0.392344   35.627188  \n",
            "std      0.981429   55.907576  \n",
            "min      0.000000    0.000000  \n",
            "25%      0.000000    7.895800  \n",
            "50%      0.000000   14.454200  \n",
            "75%      0.000000   31.500000  \n",
            "max      9.000000  512.329200  \n"
          ]
        }
      ]
    },
    {
      "cell_type": "code",
      "source": [
        "# Check for missing values in each column\n",
        "print(\"Missing values per column:\")\n",
        "print(df.isnull().sum())\n",
        "\n",
        "# Check total number of missing values in the dataset\n",
        "print(\"\\nTotal missing values in dataset:\", df.isnull().sum().sum())\n",
        "\n",
        "# --- Handling Missing Values ---\n",
        "\n",
        "# Example 1: Drop rows with any missing values\n",
        "df_dropped = df.dropna()\n",
        "print(\"\\nData after dropping rows with missing values:\")\n",
        "print(df_dropped.shape)\n",
        "\n",
        "# Example 2: Fill missing values with a specific value (e.g., 0 or 'Unknown')\n",
        "df_filled = df.fillna(0)  # or use df.fillna('Unknown') for categorical columns\n",
        "print(\"\\nData after filling missing values with 0:\")\n",
        "print(df_filled.head())\n",
        "\n",
        "# Example 3: Fill missing values with column mean (for numeric columns)\n",
        "df_mean_filled = df.fillna(df.mean(numeric_only=True))\n",
        "print(\"\\nData after filling numeric missing values with column mean:\")\n",
        "print(df_mean_filled.head())\n"
      ],
      "metadata": {
        "colab": {
          "base_uri": "https://localhost:8080/"
        },
        "id": "edj_jVKA2sCG",
        "outputId": "1eb8effb-9150-4253-dd24-52b7f3187a4c"
      },
      "execution_count": 5,
      "outputs": [
        {
          "output_type": "stream",
          "name": "stdout",
          "text": [
            "Missing values per column:\n",
            "PassengerId      0\n",
            "Survived         0\n",
            "Pclass           0\n",
            "Name             0\n",
            "Sex              0\n",
            "Age             86\n",
            "SibSp            0\n",
            "Parch            0\n",
            "Ticket           0\n",
            "Fare             1\n",
            "Cabin          327\n",
            "Embarked         0\n",
            "dtype: int64\n",
            "\n",
            "Total missing values in dataset: 414\n",
            "\n",
            "Data after dropping rows with missing values:\n",
            "(87, 12)\n",
            "\n",
            "Data after filling missing values with 0:\n",
            "   PassengerId  Survived  Pclass  \\\n",
            "0          892         0       3   \n",
            "1          893         1       3   \n",
            "2          894         0       2   \n",
            "3          895         0       3   \n",
            "4          896         1       3   \n",
            "\n",
            "                                           Name     Sex   Age  SibSp  Parch  \\\n",
            "0                              Kelly, Mr. James    male  34.5      0      0   \n",
            "1              Wilkes, Mrs. James (Ellen Needs)  female  47.0      1      0   \n",
            "2                     Myles, Mr. Thomas Francis    male  62.0      0      0   \n",
            "3                              Wirz, Mr. Albert    male  27.0      0      0   \n",
            "4  Hirvonen, Mrs. Alexander (Helga E Lindqvist)  female  22.0      1      1   \n",
            "\n",
            "    Ticket     Fare Cabin Embarked  \n",
            "0   330911   7.8292     0        Q  \n",
            "1   363272   7.0000     0        S  \n",
            "2   240276   9.6875     0        Q  \n",
            "3   315154   8.6625     0        S  \n",
            "4  3101298  12.2875     0        S  \n",
            "\n",
            "Data after filling numeric missing values with column mean:\n",
            "   PassengerId  Survived  Pclass  \\\n",
            "0          892         0       3   \n",
            "1          893         1       3   \n",
            "2          894         0       2   \n",
            "3          895         0       3   \n",
            "4          896         1       3   \n",
            "\n",
            "                                           Name     Sex   Age  SibSp  Parch  \\\n",
            "0                              Kelly, Mr. James    male  34.5      0      0   \n",
            "1              Wilkes, Mrs. James (Ellen Needs)  female  47.0      1      0   \n",
            "2                     Myles, Mr. Thomas Francis    male  62.0      0      0   \n",
            "3                              Wirz, Mr. Albert    male  27.0      0      0   \n",
            "4  Hirvonen, Mrs. Alexander (Helga E Lindqvist)  female  22.0      1      1   \n",
            "\n",
            "    Ticket     Fare Cabin Embarked  \n",
            "0   330911   7.8292   NaN        Q  \n",
            "1   363272   7.0000   NaN        S  \n",
            "2   240276   9.6875   NaN        Q  \n",
            "3   315154   8.6625   NaN        S  \n",
            "4  3101298  12.2875   NaN        S  \n"
          ]
        }
      ]
    },
    {
      "cell_type": "code",
      "source": [
        "# --- Handling Missing Values ---\n",
        "\n",
        "# Example 1: Drop rows with any missing values\n",
        "df_dropped = df.dropna()\n",
        "print(\"\\nData after dropping rows with missing values:\")\n",
        "print(df_dropped.shape)\n",
        "\n",
        "# Example 2: Fill missing values with a specific value (e.g., 0 or 'Unknown')\n",
        "df_filled = df.fillna(0)  # or use df.fillna('Unknown') for categorical columns\n",
        "print(\"\\nData after filling missing values with 0:\")\n",
        "print(df_filled.head())\n",
        "\n",
        "# Example 3: Fill missing values with column mean (for numeric columns)\n",
        "df_mean_filled = df.fillna(df.mean(numeric_only=True))\n",
        "print(\"\\nData after filling numeric missing values with column mean:\")\n",
        "print(df_mean_filled.head())"
      ],
      "metadata": {
        "colab": {
          "base_uri": "https://localhost:8080/"
        },
        "id": "ILZUJ8T63MP_",
        "outputId": "b4a5463f-2862-4751-9462-f124f834fdb7"
      },
      "execution_count": 6,
      "outputs": [
        {
          "output_type": "stream",
          "name": "stdout",
          "text": [
            "\n",
            "Data after dropping rows with missing values:\n",
            "(87, 12)\n",
            "\n",
            "Data after filling missing values with 0:\n",
            "   PassengerId  Survived  Pclass  \\\n",
            "0          892         0       3   \n",
            "1          893         1       3   \n",
            "2          894         0       2   \n",
            "3          895         0       3   \n",
            "4          896         1       3   \n",
            "\n",
            "                                           Name     Sex   Age  SibSp  Parch  \\\n",
            "0                              Kelly, Mr. James    male  34.5      0      0   \n",
            "1              Wilkes, Mrs. James (Ellen Needs)  female  47.0      1      0   \n",
            "2                     Myles, Mr. Thomas Francis    male  62.0      0      0   \n",
            "3                              Wirz, Mr. Albert    male  27.0      0      0   \n",
            "4  Hirvonen, Mrs. Alexander (Helga E Lindqvist)  female  22.0      1      1   \n",
            "\n",
            "    Ticket     Fare Cabin Embarked  \n",
            "0   330911   7.8292     0        Q  \n",
            "1   363272   7.0000     0        S  \n",
            "2   240276   9.6875     0        Q  \n",
            "3   315154   8.6625     0        S  \n",
            "4  3101298  12.2875     0        S  \n",
            "\n",
            "Data after filling numeric missing values with column mean:\n",
            "   PassengerId  Survived  Pclass  \\\n",
            "0          892         0       3   \n",
            "1          893         1       3   \n",
            "2          894         0       2   \n",
            "3          895         0       3   \n",
            "4          896         1       3   \n",
            "\n",
            "                                           Name     Sex   Age  SibSp  Parch  \\\n",
            "0                              Kelly, Mr. James    male  34.5      0      0   \n",
            "1              Wilkes, Mrs. James (Ellen Needs)  female  47.0      1      0   \n",
            "2                     Myles, Mr. Thomas Francis    male  62.0      0      0   \n",
            "3                              Wirz, Mr. Albert    male  27.0      0      0   \n",
            "4  Hirvonen, Mrs. Alexander (Helga E Lindqvist)  female  22.0      1      1   \n",
            "\n",
            "    Ticket     Fare Cabin Embarked  \n",
            "0   330911   7.8292   NaN        Q  \n",
            "1   363272   7.0000   NaN        S  \n",
            "2   240276   9.6875   NaN        Q  \n",
            "3   315154   8.6625   NaN        S  \n",
            "4  3101298  12.2875   NaN        S  \n"
          ]
        }
      ]
    },
    {
      "cell_type": "code",
      "source": [
        "# 1. Add 'FamilySize' column\n",
        "df['FamilySize'] = df['SibSp'] + df['Parch'] + 1  # +1 includes the passenger\n",
        "\n",
        "# 2. Add 'IsAlone' column (1 if alone, 0 otherwise)\n",
        "df['IsAlone'] = 0\n",
        "df.loc[df['FamilySize'] == 1, 'IsAlone'] = 1\n",
        "\n",
        "# Display first few rows with new columns\n",
        "print(df[['PassengerId', 'SibSp', 'Parch', 'FamilySize', 'IsAlone']].head())"
      ],
      "metadata": {
        "colab": {
          "base_uri": "https://localhost:8080/"
        },
        "id": "NfDdE58g4maO",
        "outputId": "1486e6e3-7bdd-4e7c-eb0f-6dead160b629"
      },
      "execution_count": 7,
      "outputs": [
        {
          "output_type": "stream",
          "name": "stdout",
          "text": [
            "   PassengerId  SibSp  Parch  FamilySize  IsAlone\n",
            "0          892      0      0           1        1\n",
            "1          893      1      0           2        0\n",
            "2          894      0      0           1        1\n",
            "3          895      0      0           1        1\n",
            "4          896      1      1           3        0\n"
          ]
        }
      ]
    },
    {
      "cell_type": "code",
      "source": [
        "\n",
        "\n",
        "# Filter rows where passenger survived (Survived == 1) and gender is female\n",
        "filtered_df = df[(df['Survived'] == 1) & (df['Sex'] == 'female')]\n",
        "\n",
        "# Display the first few rows of filtered data\n",
        "print(filtered_df.head())\n"
      ],
      "metadata": {
        "colab": {
          "base_uri": "https://localhost:8080/"
        },
        "id": "4oC1vnYs5Cqx",
        "outputId": "5b53f19f-b802-461a-ea86-898cb4ad81e9"
      },
      "execution_count": 8,
      "outputs": [
        {
          "output_type": "stream",
          "name": "stdout",
          "text": [
            "    PassengerId  Survived  Pclass  \\\n",
            "1           893         1       3   \n",
            "4           896         1       3   \n",
            "6           898         1       3   \n",
            "8           900         1       3   \n",
            "12          904         1       1   \n",
            "\n",
            "                                             Name     Sex   Age  SibSp  Parch  \\\n",
            "1                Wilkes, Mrs. James (Ellen Needs)  female  47.0      1      0   \n",
            "4    Hirvonen, Mrs. Alexander (Helga E Lindqvist)  female  22.0      1      1   \n",
            "6                            Connolly, Miss. Kate  female  30.0      0      0   \n",
            "8       Abrahim, Mrs. Joseph (Sophie Halaut Easu)  female  18.0      0      0   \n",
            "12  Snyder, Mrs. John Pillsbury (Nelle Stevenson)  female  23.0      1      0   \n",
            "\n",
            "     Ticket     Fare Cabin Embarked  FamilySize  IsAlone  \n",
            "1    363272   7.0000   NaN        S           2        0  \n",
            "4   3101298  12.2875   NaN        S           3        0  \n",
            "6    330972   7.6292   NaN        Q           1        1  \n",
            "8      2657   7.2292   NaN        C           1        1  \n",
            "12    21228  82.2667   B45        S           2        0  \n"
          ]
        }
      ]
    },
    {
      "cell_type": "code",
      "source": [
        "from google.colab import drive # Import 'drive' module from the 'google.colab' library\n",
        "drive.mount('/content/drive') # This mounts your Google Drive into the Colab virtual environment.\n",
        "\n",
        "import pandas as pd\n",
        "\n",
        "file_path = '/content/drive/MyDrive/salesdataset.csv' # 'My Drive' refers to the root directory of Google Drive.\n",
        "# Try reading the CSV with 'latin1' encoding\n",
        "try:\n",
        "  df = pd.read_csv(file_path, encoding='latin1')\n",
        "except UnicodeDecodeError:\n",
        "  # If 'latin1' fails, you might need to try other encodings like 'ISO-8859-1' or 'cp1252'\n",
        "  print(\"UnicodeDecodeError: Could not decode the file with 'latin1' encoding. Try another encoding like 'ISO-8859-1' or 'cp1252'.\")\n",
        "  # As a fallback, you could try reading with a different error handling strategy, but be aware of potential data loss.\n",
        "  # df = pd.read_csv(file_path, encoding='utf-8', errors='ignore')\n",
        "\n",
        "\n",
        "print(df.head())"
      ],
      "metadata": {
        "colab": {
          "base_uri": "https://localhost:8080/"
        },
        "id": "-gL03Up85soY",
        "outputId": "97ed6bb7-dc04-4ef3-88da-32f6dbf56abc"
      },
      "execution_count": 17,
      "outputs": [
        {
          "output_type": "stream",
          "name": "stdout",
          "text": [
            "Drive already mounted at /content/drive; to attempt to forcibly remount, call drive.mount(\"/content/drive\", force_remount=True).\n",
            "   ORDERNUMBER  QUANTITYORDERED  PRICEEACH  ORDERLINENUMBER    SALES  \\\n",
            "0      10107.0             30.0      95.70              2.0  2871.00   \n",
            "1      10121.0             34.0      81.35              5.0  2765.90   \n",
            "2      10134.0             41.0      94.74              2.0  3884.34   \n",
            "3      10145.0             45.0      83.26              6.0  3746.70   \n",
            "4      10159.0             49.0     100.00             14.0  5205.27   \n",
            "\n",
            "         ORDERDATE   STATUS  QTR_ID  MONTH_ID  YEAR_ID  ...  \\\n",
            "0   2/24/2003 0:00  Shipped     1.0       2.0   2003.0  ...   \n",
            "1  05/07/2003 0:00  Shipped     2.0       5.0   2003.0  ...   \n",
            "2  07/01/2003 0:00  Shipped     3.0       7.0   2003.0  ...   \n",
            "3   8/25/2003 0:00  Shipped     3.0       8.0   2003.0  ...   \n",
            "4  10/10/2003 0:00  Shipped     4.0      10.0   2003.0  ...   \n",
            "\n",
            "                    ADDRESSLINE1  ADDRESSLINE2           CITY STATE  \\\n",
            "0        897 Long Airport Avenue           NaN            NYC    NY   \n",
            "1             59 rue de l'Abbaye           NaN          Reims   NaN   \n",
            "2  27 rue du Colonel Pierre Avia           NaN          Paris   NaN   \n",
            "3             78934 Hillside Dr.           NaN       Pasadena    CA   \n",
            "4                7734 Strong St.           NaN  San Francisco    CA   \n",
            "\n",
            "  POSTALCODE COUNTRY TERRITORY CONTACTLASTNAME CONTACTFIRSTNAME DEALSIZE  \n",
            "0      10022     USA       NaN              Yu             Kwai    Small  \n",
            "1      51100  France      EMEA         Henriot             Paul    Small  \n",
            "2      75508  France      EMEA        Da Cunha           Daniel   Medium  \n",
            "3      90003     USA       NaN           Young            Julie   Medium  \n",
            "4        NaN     USA       NaN           Brown            Julie   Medium  \n",
            "\n",
            "[5 rows x 25 columns]\n"
          ]
        }
      ]
    },
    {
      "cell_type": "code",
      "source": [
        "#groupby country and their sales\n",
        "sales_by_country = df.groupby('COUNTRY')['SALES'].sum()\n",
        "print(sales_by_country)"
      ],
      "metadata": {
        "colab": {
          "base_uri": "https://localhost:8080/"
        },
        "id": "9cNz8ZvH69gZ",
        "outputId": "4d89637c-ab31-4472-b504-8b8f0231cc6e"
      },
      "execution_count": 19,
      "outputs": [
        {
          "output_type": "stream",
          "name": "stdout",
          "text": [
            "COUNTRY\n",
            "Australia       173712.22\n",
            "Austria          86231.60\n",
            "Belgium           9133.59\n",
            "Canada           55326.33\n",
            "Denmark          84206.69\n",
            "Finland          82380.15\n",
            "France          314843.66\n",
            "Germany          60822.97\n",
            "Ireland          16940.26\n",
            "Italy           112699.21\n",
            "Japan            57833.19\n",
            "Norway           99618.61\n",
            "Philippines      26096.34\n",
            "Singapore        96204.07\n",
            "Spain           222953.35\n",
            "Sweden           70827.00\n",
            "Switzerland      37301.11\n",
            "UK              118569.09\n",
            "USA            1069576.24\n",
            "Name: SALES, dtype: float64\n"
          ]
        }
      ]
    },
    {
      "cell_type": "code",
      "source": [
        "#average sales by product\n",
        "avg_sales_by_product = df.groupby('PRODUCTLINE')['SALES'].mean()\n",
        "print(avg_sales_by_product)"
      ],
      "metadata": {
        "colab": {
          "base_uri": "https://localhost:8080/"
        },
        "id": "K1fRtjgc7Vep",
        "outputId": "388ccc85-06c9-4288-d9f2-a816cd71f180"
      },
      "execution_count": 21,
      "outputs": [
        {
          "output_type": "stream",
          "name": "stdout",
          "text": [
            "PRODUCTLINE\n",
            "Classic Cars        4811.235399\n",
            "Motorcycles         4937.804712\n",
            "Planes              5362.383462\n",
            "Trucks and Buses    4321.219518\n",
            "Vintage Cars        3804.713973\n",
            "Name: SALES, dtype: float64\n"
          ]
        }
      ]
    },
    {
      "cell_type": "code",
      "source": [
        "#total quantity per year\n",
        "qty_by_year = df.groupby('YEAR_ID')['QUANTITYORDERED'].sum()\n",
        "print(qty_by_year)"
      ],
      "metadata": {
        "colab": {
          "base_uri": "https://localhost:8080/"
        },
        "id": "VJbTr6jL7tmo",
        "outputId": "659a051e-f979-4fdf-9376-550cade669e1"
      },
      "execution_count": 23,
      "outputs": [
        {
          "output_type": "stream",
          "name": "stdout",
          "text": [
            "YEAR_ID\n",
            "2003.0    7760.0\n",
            "2004.0    9772.0\n",
            "2005.0    3765.0\n",
            "Name: QUANTITYORDERED, dtype: float64\n"
          ]
        }
      ]
    },
    {
      "cell_type": "code",
      "source": [
        "#sales summary by country and year\n",
        "sales_summary = df.groupby(['COUNTRY', 'YEAR_ID'])['SALES'].agg(['sum', 'mean', 'count'])\n",
        "print(sales_summary)"
      ],
      "metadata": {
        "colab": {
          "base_uri": "https://localhost:8080/"
        },
        "id": "108lkNN278HR",
        "outputId": "5be8feca-7d43-4b83-915a-f08198406950"
      },
      "execution_count": 25,
      "outputs": [
        {
          "output_type": "stream",
          "name": "stdout",
          "text": [
            "                           sum         mean  count\n",
            "COUNTRY     YEAR_ID                               \n",
            "Australia   2003.0    69135.72  4320.982500     16\n",
            "            2004.0    61143.97  4076.264667     15\n",
            "            2005.0    43432.53  3948.411818     11\n",
            "Austria     2003.0    35446.71  5063.815714      7\n",
            "            2004.0    31165.81  5194.301667      6\n",
            "            2005.0    19619.08  3269.846667      6\n",
            "Belgium     2004.0     9133.59  4566.795000      2\n",
            "Canada      2003.0    21596.03  5399.007500      4\n",
            "            2004.0    15717.34  3929.335000      4\n",
            "            2005.0    18012.96  4503.240000      4\n",
            "Denmark     2003.0    30383.02  6076.604000      5\n",
            "            2004.0    45448.98  4544.898000     10\n",
            "            2005.0     8374.69  8374.690000      1\n",
            "Finland     2003.0    16525.23  4131.307500      4\n",
            "            2004.0    34541.83  4934.547143      7\n",
            "            2005.0    31313.09  3479.232222      9\n",
            "France      2003.0   115129.25  4605.170000     25\n",
            "            2004.0   156358.11  4467.374571     35\n",
            "            2005.0    43356.30  4335.630000     10\n",
            "Germany     2003.0    25369.62  3624.231429      7\n",
            "            2004.0    35453.35  5064.764286      7\n",
            "Ireland     2004.0    16940.26  5646.753333      3\n",
            "Italy       2003.0    39672.13  5667.447143      7\n",
            "            2004.0    68674.92  4905.351429     14\n",
            "            2005.0     4352.16  4352.160000      1\n",
            "Japan       2004.0    46029.69  5114.410000      9\n",
            "            2005.0    11803.50  5901.750000      2\n",
            "Norway      2003.0    70579.17  4705.278000     15\n",
            "            2004.0    29039.44  3629.930000      8\n",
            "Philippines 2003.0    26096.34  5219.268000      5\n",
            "Singapore   2003.0    66669.13  6060.830000     11\n",
            "            2004.0    29534.94  4922.490000      6\n",
            "Spain       2003.0    78853.99  4380.777222     18\n",
            "            2004.0    74197.41  4364.553529     17\n",
            "            2005.0    69901.95  5825.162500     12\n",
            "Sweden      2003.0    18896.99  6298.996667      3\n",
            "            2004.0    39772.32  4971.540000      8\n",
            "            2005.0    12157.69  3039.422500      4\n",
            "Switzerland 2004.0    37301.11  3730.111000     10\n",
            "UK          2003.0    41975.47  5246.933750      8\n",
            "            2004.0    53623.82  3830.272857     14\n",
            "            2005.0    22969.80  7656.600000      3\n",
            "USA         2003.0   412603.35  4797.713372     86\n",
            "            2004.0   482419.08  4683.680388    103\n",
            "            2005.0   174553.81  4717.670541     37\n"
          ]
        }
      ]
    }
  ]
}