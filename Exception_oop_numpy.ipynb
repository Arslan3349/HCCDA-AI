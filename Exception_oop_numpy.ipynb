{
  "nbformat": 4,
  "nbformat_minor": 0,
  "metadata": {
    "colab": {
      "provenance": []
    },
    "kernelspec": {
      "name": "python3",
      "display_name": "Python 3"
    },
    "language_info": {
      "name": "python"
    }
  },
  "cells": [
    {
      "cell_type": "code",
      "execution_count": null,
      "metadata": {
        "id": "_jgYbWXMJR6s"
      },
      "outputs": [],
      "source": [
        "def withdraw_amount():\n",
        "    try:\n",
        "        # Take input from the user\n",
        "        user_input = input(\"Enter the amount you want to withdraw: \")\n",
        "\n",
        "        # Try to convert input to float\n",
        "        amount = float(user_input)\n",
        "\n",
        "        # Check for negative amount\n",
        "        if amount <= 0:\n",
        "            raise ValueError(\"Withdrawal amount must be greater than zero.\")\n",
        "\n",
        "        print(f\"Transaction successful! You have withdrawn ${amount:.2f}\")\n",
        "\n",
        "    except ValueError as ve:\n",
        "        print(f\"Invalid input: {ve}\")\n",
        "\n",
        "    except TypeError:\n",
        "        print(\"Type error occurred! Please enter a valid number.\")\n",
        "\n",
        "# Run the function\n",
        "withdraw_amount()"
      ]
    },
    {
      "cell_type": "code",
      "source": [
        "def calculate_average(marks_list):\n",
        "    valid_marks = []\n",
        "\n",
        "    for mark in marks_list:\n",
        "        try:\n",
        "            # Attempt to convert mark to float\n",
        "            valid_mark = float(mark)\n",
        "\n",
        "            # Optionally check for realistic mark range (e.g. 0 to 100)\n",
        "            if 0 <= valid_mark <= 100:\n",
        "                valid_marks.append(valid_mark)\n",
        "            else:\n",
        "                print(f\"Skipped invalid mark (out of range): {mark}\")\n",
        "\n",
        "        except (ValueError, TypeError):\n",
        "            print(f\"Skipped invalid mark (not a number): {mark}\")\n",
        "\n",
        "    if valid_marks:\n",
        "        average = sum(valid_marks) / len(valid_marks)\n",
        "        print(f\"\\nValid Marks: {valid_marks}\")\n",
        "        print(f\"Average of valid marks: {average:.2f}\")\n",
        "    else:\n",
        "        print(\"No valid marks available to calculate average.\")\n",
        "\n",
        "# Example list of student marks (some valid, some invalid)\n",
        "student_marks = [95, '85', '', 78, 'NaN', 101, 'A+', None, 65.5, '88.5']\n",
        "\n",
        "# Run the function\n",
        "calculate_average(student_marks)"
      ],
      "metadata": {
        "id": "GYpnP8oxJrn9"
      },
      "execution_count": null,
      "outputs": []
    },
    {
      "cell_type": "code",
      "source": [
        "\n",
        "class Book:\n",
        "    def __init__(self, title, author):\n",
        "        self.title = title\n",
        "        self.author = author\n",
        "        self.available = True  # Book is available by default\n",
        "\n",
        "    def borrow_book(self):\n",
        "        if self.available:\n",
        "            self.available = False\n",
        "            print(f\"You have successfully borrowed '{self.title}' by {self.author}.\")\n",
        "        else:\n",
        "            print(f\"Sorry, '{self.title}' is currently not available.\")\n",
        "\n",
        "    def return_book(self):\n",
        "        if not self.available:\n",
        "            self.available = True\n",
        "            print(f\"You have successfully returned '{self.title}'.\")\n",
        "        else:\n",
        "            print(f\"'{self.title}' was not borrowed.\")\n",
        "\n",
        "    def book_status(self):\n",
        "        status = \"Available\" if self.available else \"Not Available\"\n",
        "        print(f\"Book: '{self.title}' | Author: {self.author} | Status: {status}\")\n",
        "\n",
        "\n",
        "# Example usage\n",
        "book1 = Book(\"Python Programming\", \"John Zelle\")\n",
        "book2 = Book(\"Data Structures\", \"Mark Allen Weiss\")\n",
        "\n",
        "# Display status\n",
        "book1.book_status()\n",
        "book2.book_status()\n",
        "\n",
        "# Try borrowing books\n",
        "book1.borrow_book()\n",
        "book1.borrow_book()  # Try borrowing again\n",
        "\n",
        "# Return book\n",
        "book1.return_book()\n",
        "book1.return_book()  # Try returning again\n",
        "\n",
        "# Final status\n",
        "book1.book_status()"
      ],
      "metadata": {
        "id": "99oiFvFCJ08D"
      },
      "execution_count": null,
      "outputs": []
    },
    {
      "cell_type": "code",
      "source": [
        "\n",
        "# Base class\n",
        "class Animal:\n",
        "    def __init__(self, name):\n",
        "        self.name = name\n",
        "\n",
        "    def make_sound(self):\n",
        "        print(f\"{self.name} makes a sound.\")\n",
        "\n",
        "# Derived class: Dog\n",
        "class Dog(Animal):\n",
        "    def make_sound(self):\n",
        "        print(f\"{self.name} says: Woof!\")\n",
        "\n",
        "# Derived class: Cat\n",
        "class Cat(Animal):\n",
        "    def make_sound(self):\n",
        "        print(f\"{self.name} says: Meow!\")\n",
        "\n",
        "# Derived class: Bird\n",
        "class Bird(Animal):\n",
        "    def make_sound(self):\n",
        "        print(f\"{self.name} says: Tweet!\")\n",
        "\n",
        "# Demonstrating polymorphism\n",
        "def animal_shelter_demo():\n",
        "    animals = [\n",
        "        Dog(\"Buddy\"),\n",
        "        Cat(\"Whiskers\"),\n",
        "        Bird(\"Tweety\"),\n",
        "        Dog(\"Max\"),\n",
        "        Cat(\"Luna\")\n",
        "    ]\n",
        "\n",
        "    print(\"Animal Shelter Sounds:\\n\")\n",
        "    for animal in animals:\n",
        "        animal.make_sound()  # Polymorphic behavior\n",
        "\n",
        "# Run the demo\n",
        "animal_shelter_demo()"
      ],
      "metadata": {
        "id": "I-AQwrvvJ8Wx"
      },
      "execution_count": null,
      "outputs": []
    },
    {
      "cell_type": "code",
      "source": [
        "\n",
        "import numpy as np\n",
        "\n",
        "# Sample temperature data: rows = cities, columns = temperatures over days\n",
        "temperature_data = np.array([\n",
        "    [30, 32, 31, 29],   # City 1\n",
        "    [25, 28, 26, 27],   # City 2\n",
        "    [35, 36, 34, 37],   # City 3\n",
        "    [22, 23, 21, 20]    # City 4\n",
        "])\n",
        "\n",
        "# 1. Find maximum temperature in each city (row-wise)\n",
        "max_temps_per_city = np.max(temperature_data, axis=1)\n",
        "print(\"Maximum temperature in each city:\", max_temps_per_city)\n",
        "\n",
        "# 2. Calculate average temperature across all cities and days\n",
        "overall_avg_temp = np.mean(temperature_data)\n",
        "print(\"Overall average temperature:\", overall_avg_temp)\n",
        "\n",
        "# 3. Identify cities with average temperature above overall average\n",
        "city_avg_temps = np.mean(temperature_data, axis=1)\n",
        "cities_above_avg = city_avg_temps > overall_avg_temp\n",
        "print(\"Average temperature per city:\", city_avg_temps)\n",
        "print(\"Cities with above-average temperature:\", np.where(cities_above_avg)[0] + 1)  # +1 for 1-based indexing"
      ],
      "metadata": {
        "id": "cyL0TugaKB84"
      },
      "execution_count": null,
      "outputs": []
    },
    {
      "cell_type": "code",
      "source": [
        "\n",
        "import numpy as np\n",
        "\n",
        "# Sample sales data for 12 months\n",
        "monthly_sales = np.array([1200, 1500, 1100, 1700, 1300, 1600, 900, 1800, 1400, 1250, 1000, 1550])\n",
        "\n",
        "# Step 1: Calculate average sales\n",
        "average_sales = np.mean(monthly_sales)\n",
        "print(\"Average monthly sales:\", average_sales)\n",
        "\n",
        "# Step 2: Find months with sales below average\n",
        "below_avg_condition = monthly_sales < average_sales\n",
        "\n",
        "# Step 3: Apply 10% discount to those months\n",
        "monthly_sales[below_avg_condition] *= 0.9\n",
        "\n",
        "# Step 4: Display updated sales\n",
        "print(\"Updated monthly sales after 10% discount on below-average months:\")\n",
        "print(np.round(monthly_sales, 2))"
      ],
      "metadata": {
        "id": "Jo8UfKNbKI_F"
      },
      "execution_count": null,
      "outputs": []
    },
    {
      "cell_type": "code",
      "source": [],
      "metadata": {
        "id": "2XY_amnjKOgI"
      },
      "execution_count": null,
      "outputs": []
    }
  ]
}