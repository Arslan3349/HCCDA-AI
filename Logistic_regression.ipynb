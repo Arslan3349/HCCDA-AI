{
  "nbformat": 4,
  "nbformat_minor": 0,
  "metadata": {
    "colab": {
      "provenance": []
    },
    "kernelspec": {
      "name": "python3",
      "display_name": "Python 3"
    },
    "language_info": {
      "name": "python"
    }
  },
  "cells": [
    {
      "cell_type": "code",
      "execution_count": 2,
      "metadata": {
        "colab": {
          "base_uri": "https://localhost:8080/"
        },
        "id": "C1EozWIeC7JR",
        "outputId": "378abb57-6764-472d-a7ca-2905b9670c1c"
      },
      "outputs": [
        {
          "output_type": "stream",
          "name": "stdout",
          "text": [
            "Drive already mounted at /content/drive; to attempt to forcibly remount, call drive.mount(\"/content/drive\", force_remount=True).\n",
            "      id  gender   age  hypertension  heart_disease ever_married  \\\n",
            "0   9046    Male  67.0             0              1          Yes   \n",
            "1  51676  Female  61.0             0              0          Yes   \n",
            "2  31112    Male  80.0             0              1          Yes   \n",
            "3  60182  Female  49.0             0              0          Yes   \n",
            "4   1665  Female  79.0             1              0          Yes   \n",
            "\n",
            "       work_type Residence_type  avg_glucose_level   bmi   smoking_status  \\\n",
            "0        Private          Urban             228.69  36.6  formerly smoked   \n",
            "1  Self-employed          Rural             202.21   NaN     never smoked   \n",
            "2        Private          Rural             105.92  32.5     never smoked   \n",
            "3        Private          Urban             171.23  34.4           smokes   \n",
            "4  Self-employed          Rural             174.12  24.0     never smoked   \n",
            "\n",
            "   stroke  \n",
            "0       1  \n",
            "1       1  \n",
            "2       1  \n",
            "3       1  \n",
            "4       1  \n"
          ]
        }
      ],
      "source": [
        "import pandas as pd\n",
        "from google.colab import drive # Import 'drive' module from the 'google.colab' library\n",
        "drive.mount('/content/drive') # This mounts your Google Drive into the Colab virtual environment.\n",
        "\n",
        "file_path = '/content/drive/MyDrive/healthcare-dataset-stroke-data.csv'\n",
        "df = pd.read_csv(file_path)\n",
        "\n",
        "print(df.head())"
      ]
    },
    {
      "cell_type": "code",
      "source": [
        "import pandas as pd\n",
        "from sklearn.model_selection import train_test_split\n",
        "from sklearn.preprocessing import StandardScaler, LabelEncoder\n",
        "from sklearn.linear_model import LogisticRegression\n",
        "from sklearn.metrics import accuracy_score, confusion_matrix, precision_score, recall_score, f1_score\n",
        "\n",
        "# Step 1: Load dataset\n",
        "\n",
        "\n",
        "# Step 2: Drop irrelevant column\n",
        "df.drop(columns=['id'], inplace=True)\n",
        "\n",
        "# Step 3: Handle missing values (bmi)\n",
        "df['bmi'].fillna(df['bmi'].mean(), inplace=True)\n",
        "\n",
        "# Step 4: Encode binary categorical columns using Label Encoding\n",
        "binary_cols = ['gender', 'ever_married', 'Residence_type']\n",
        "le = LabelEncoder()\n",
        "for col in binary_cols:\n",
        "    df[col] = le.fit_transform(df[col])\n",
        "\n",
        "# Step 5: One-hot encode multi-class categorical columns\n",
        "df = pd.get_dummies(df, columns=['work_type', 'smoking_status'], drop_first=True)\n",
        "\n",
        "# Step 6: Separate features and target\n",
        "X = df.drop('stroke', axis=1)\n",
        "y = df['stroke']\n",
        "\n",
        "# Step 7: Scale numerical features\n",
        "scaler = StandardScaler()\n",
        "num_cols = ['age', 'avg_glucose_level', 'bmi']\n",
        "X[num_cols] = scaler.fit_transform(X[num_cols])\n",
        "\n",
        "# Step 8: Train-test split\n",
        "X_train, X_test, y_train, y_test = train_test_split(\n",
        "    X, y, test_size=0.2, random_state=42, stratify=y\n",
        ")\n",
        "\n",
        "# Step 9: Apply Logistic Regression\n",
        "model = LogisticRegression(max_iter=1000)\n",
        "model.fit(X_train, y_train)\n",
        "\n",
        "# Step 10: Make predictions\n",
        "y_pred = model.predict(X_test)\n",
        "\n",
        "# Step 11: Evaluate the model\n",
        "accuracy = accuracy_score(y_test, y_pred)\n",
        "conf_matrix = confusion_matrix(y_test, y_pred)\n",
        "precision = precision_score(y_test, y_pred, zero_division=0)\n",
        "recall = recall_score(y_test, y_pred, zero_division=0)\n",
        "f1 = f1_score(y_test, y_pred, zero_division=0)\n",
        "\n",
        "# Step 12: Print results\n",
        "print(\"Accuracy:\", accuracy)\n",
        "print(\"Confusion Matrix:\\n\", conf_matrix)\n",
        "print(\"Precision:\", precision)\n",
        "print(\"Recall:\", recall)\n",
        "print(\"F1-Score:\", f1)\n"
      ],
      "metadata": {
        "colab": {
          "base_uri": "https://localhost:8080/"
        },
        "id": "Y2WU1xzsD3Dc",
        "outputId": "5bcecf35-bbf6-462c-a7cf-60689d4ce1f5"
      },
      "execution_count": 4,
      "outputs": [
        {
          "output_type": "stream",
          "name": "stdout",
          "text": [
            "Accuracy: 0.952054794520548\n",
            "Confusion Matrix:\n",
            " [[972   0]\n",
            " [ 49   1]]\n",
            "Precision: 1.0\n",
            "Recall: 0.02\n",
            "F1-Score: 0.0392156862745098\n"
          ]
        },
        {
          "output_type": "stream",
          "name": "stderr",
          "text": [
            "/tmp/ipython-input-4-766168714.py:14: FutureWarning: A value is trying to be set on a copy of a DataFrame or Series through chained assignment using an inplace method.\n",
            "The behavior will change in pandas 3.0. This inplace method will never work because the intermediate object on which we are setting values always behaves as a copy.\n",
            "\n",
            "For example, when doing 'df[col].method(value, inplace=True)', try using 'df.method({col: value}, inplace=True)' or df[col] = df[col].method(value) instead, to perform the operation inplace on the original object.\n",
            "\n",
            "\n",
            "  df['bmi'].fillna(df['bmi'].mean(), inplace=True)\n"
          ]
        }
      ]
    },
    {
      "cell_type": "code",
      "source": [
        "import pandas as pd\n",
        "from google.colab import drive # Import 'drive' module from the 'google.colab' library\n",
        "drive.mount('/content/drive') # This mounts your Google Drive into the Colab virtual environment.\n",
        "\n",
        "file_path = '/content/drive/MyDrive/healthcare-dataset-stroke-data.csv'\n",
        "df_raw = pd.read_csv(file_path)\n",
        "\n",
        "\n",
        "try:\n",
        "    # Step 1: Load raw dataset again\n",
        "\n",
        "\n",
        "    # Step 2: Separate features and target without preprocessing\n",
        "    X_raw = df_raw.drop('stroke', axis=1)\n",
        "    y_raw = df_raw['stroke']\n",
        "\n",
        "    # Step 3: Split data\n",
        "    X_train_raw, X_test_raw, y_train_raw, y_test_raw = train_test_split(\n",
        "        X_raw, y_raw, test_size=0.2, random_state=42, stratify=y_raw\n",
        "    )\n",
        "\n",
        "    # Step 4: Train model directly\n",
        "    model_raw = LogisticRegression(max_iter=1000)\n",
        "    model_raw.fit(X_train_raw, y_train_raw)  # This will raise error\n",
        "    y_pred_raw = model_raw.predict(X_test_raw)\n",
        "\n",
        "    # Step 5: Evaluate\n",
        "    print(\"Accuracy:\", accuracy_score(y_test_raw, y_pred_raw))\n",
        "    print(\"Confusion Matrix:\\n\", confusion_matrix(y_test_raw, y_pred_raw))\n",
        "    print(\"Precision:\", precision_score(y_test_raw, y_pred_raw, zero_division=0))\n",
        "    print(\"Recall:\", recall_score(y_test_raw, y_pred_raw, zero_division=0))\n",
        "    print(\"F1-Score:\", f1_score(y_test_raw, y_pred_raw, zero_division=0))\n",
        "\n",
        "except Exception as e:\n",
        "    print(\"Error occurred while training without preprocessing:\")\n",
        "    print(e)"
      ],
      "metadata": {
        "colab": {
          "base_uri": "https://localhost:8080/"
        },
        "id": "wHIQQrVbGBQ0",
        "outputId": "129dd474-f74c-4f6c-e943-c44958ebb106"
      },
      "execution_count": 10,
      "outputs": [
        {
          "output_type": "stream",
          "name": "stdout",
          "text": [
            "Drive already mounted at /content/drive; to attempt to forcibly remount, call drive.mount(\"/content/drive\", force_remount=True).\n",
            "Error occurred while training without preprocessing:\n",
            "could not convert string to float: 'Female'\n"
          ]
        }
      ]
    },
    {
      "cell_type": "markdown",
      "source": [
        "Conclusion:\n",
        "Applying Logistic Regression without preprocessing resulted in an error due to the presence of missing values and non-numeric categorical data, which the model could not handle. On the other hand, the preprocessed model successfully ran and delivered meaningful performance metrics like Accuracy: 0.952054794520548\n",
        "Confusion Matrix:\n",
        " [[972   0]\n",
        " [ 49   1]]\n",
        "Precision: 1.0\n",
        "Recall: 0.02\n",
        "F1-Score: 0.0392156862745098"
      ],
      "metadata": {
        "id": "xcjwja16I3ks"
      }
    }
  ]
}