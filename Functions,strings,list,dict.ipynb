{
  "nbformat": 4,
  "nbformat_minor": 0,
  "metadata": {
    "colab": {
      "provenance": []
    },
    "kernelspec": {
      "name": "python3",
      "display_name": "Python 3"
    },
    "language_info": {
      "name": "python"
    }
  },
  "cells": [
    {
      "cell_type": "code",
      "execution_count": 1,
      "metadata": {
        "colab": {
          "base_uri": "https://localhost:8080/"
        },
        "id": "CWDn2Babc8dU",
        "outputId": "c0029dd3-2bd9-4486-9ac9-92449d74c086"
      },
      "outputs": [
        {
          "output_type": "stream",
          "name": "stdout",
          "text": [
            "===== RECEIPT =====\n",
            "Customer Name : Arslan\n",
            "Purchased Item: Laptop\n",
            "===================\n"
          ]
        }
      ],
      "source": [
        "# Q1: Function that does NOT return a value\n",
        "\n",
        "def print_receipt(customer_name, purchased_item):\n",
        "    print(\"===== RECEIPT =====\")\n",
        "    print(f\"Customer Name : {customer_name}\")\n",
        "    print(f\"Purchased Item: {purchased_item}\")\n",
        "    print(\"===================\")\n",
        "\n",
        "# Driver code\n",
        "print_receipt(\"Arslan\", \"Laptop\")\n"
      ]
    },
    {
      "cell_type": "code",
      "source": [
        "# Q2: Function that RETURNS a value\n",
        "\n",
        "def calculate_zakat(total_savings):\n",
        "    zakat = total_savings * 0.025\n",
        "    return zakat\n",
        "\n",
        "# Driver code\n",
        "savings = float(input(\"Enter your total savings: \"))\n",
        "zakat_amount = calculate_zakat(savings)\n",
        "print(f\"Your calculated Zakat is: {zakat_amount}\")\n"
      ],
      "metadata": {
        "colab": {
          "base_uri": "https://localhost:8080/"
        },
        "id": "KLVPmD1Rd6-F",
        "outputId": "404e9727-0c16-4ed2-deab-c3a757265f05"
      },
      "execution_count": 2,
      "outputs": [
        {
          "output_type": "stream",
          "name": "stdout",
          "text": [
            "Enter your total savings: 2000\n",
            "Your calculated Zakat is: 50.0\n"
          ]
        }
      ]
    },
    {
      "cell_type": "code",
      "source": [
        "# Q3: Bonus Calculation\n",
        "\n",
        "def get_basic_salary():\n",
        "    salary = float(input(\"Enter the basic salary of the employee: \"))\n",
        "    return salary\n",
        "\n",
        "def get_employee_bonus():\n",
        "    basic_salary = get_basic_salary()\n",
        "    bonus = basic_salary * 0.10  # 10% bonus\n",
        "    return bonus\n",
        "\n",
        "# Driver code\n",
        "bonus_amount = get_employee_bonus()\n",
        "print(f\"The employee's bonus is: {bonus_amount}\")\n"
      ],
      "metadata": {
        "colab": {
          "base_uri": "https://localhost:8080/"
        },
        "id": "pEAx4DG8eonE",
        "outputId": "178d599e-8491-47ba-9f03-9f73634cfcb9"
      },
      "execution_count": 4,
      "outputs": [
        {
          "output_type": "stream",
          "name": "stdout",
          "text": [
            "Enter the basic salary of the employee: 200000\n",
            "The employee's bonus is: 20000.0\n"
          ]
        }
      ]
    },
    {
      "cell_type": "code",
      "source": [
        "# Q4: Tax Calculation\n",
        "\n",
        "def get_income():\n",
        "    income = float(input(\"Enter your annual income: \"))\n",
        "    return income\n",
        "\n",
        "def calculate_annual_tax():\n",
        "    income = get_income()\n",
        "    tax = income * 0.15  # 15% tax\n",
        "    return tax\n",
        "\n",
        "# Driver code\n",
        "tax_amount = calculate_annual_tax()\n",
        "print(f\"Your calculated annual tax is: {tax_amount}\")\n"
      ],
      "metadata": {
        "colab": {
          "base_uri": "https://localhost:8080/"
        },
        "id": "ogAwwSbzexMe",
        "outputId": "03098eac-a432-40c0-8e08-1929ca7bdf85"
      },
      "execution_count": 3,
      "outputs": [
        {
          "output_type": "stream",
          "name": "stdout",
          "text": [
            "Enter your annual income: 53000\n",
            "Your calculated annual tax is: 7950.0\n"
          ]
        }
      ]
    },
    {
      "cell_type": "code",
      "source": [
        "# Q5: Student Marks and Grade\n",
        "\n",
        "def get_total_marks():\n",
        "    marks1 = float(input(\"Enter marks for Subject 1: \"))\n",
        "    marks2 = float(input(\"Enter marks for Subject 2: \"))\n",
        "    marks3 = float(input(\"Enter marks for Subject 3: \"))\n",
        "    total = marks1 + marks2 + marks3\n",
        "    return total\n",
        "\n",
        "def assign_grade(total_marks):\n",
        "    if total_marks >= 270:\n",
        "        return \"A+\"\n",
        "    elif total_marks >= 240:\n",
        "        return \"A\"\n",
        "    elif total_marks >= 210:\n",
        "        return \"B\"\n",
        "    elif total_marks >= 180:\n",
        "        return \"C\"\n",
        "    else:\n",
        "        return \"Fail\"\n",
        "\n",
        "# Driver code\n",
        "total = get_total_marks()\n",
        "grade = assign_grade(total)\n",
        "print(f\"Total Marks: {total}\")\n",
        "print(f\"Grade: {grade}\")\n"
      ],
      "metadata": {
        "id": "LMvkYmb9e1f-"
      },
      "execution_count": null,
      "outputs": []
    },
    {
      "cell_type": "code",
      "source": [
        "# Q6: Calculate Bill and Apply Discount\n",
        "\n",
        "def calculate_total_bill():\n",
        "    item1 = float(input(\"Enter price of item 1: \"))\n",
        "    item2 = float(input(\"Enter price of item 2: \"))\n",
        "    item3 = float(input(\"Enter price of item 3: \"))\n",
        "    total = item1 + item2 + item3\n",
        "    return total\n",
        "\n",
        "def apply_discount(bill_amount):\n",
        "    if bill_amount >= 500:\n",
        "        discount = bill_amount * 0.20  # 20% discount\n",
        "    elif bill_amount >= 300:\n",
        "        discount = bill_amount * 0.10  # 10% discount\n",
        "    else:\n",
        "        discount = 0\n",
        "    final_amount = bill_amount - discount\n",
        "    print(f\"Discount Applied: {discount}\")\n",
        "    print(f\"Final Amount to Pay: {final_amount}\")\n",
        "\n",
        "# Driver code\n",
        "bill = calculate_total_bill()\n",
        "apply_discount(bill)\n"
      ],
      "metadata": {
        "id": "uPCQoE8PfJ1w"
      },
      "execution_count": null,
      "outputs": []
    },
    {
      "cell_type": "code",
      "source": [
        "# additional function questions Q1: Employee Bonus Based on Years of Service\n",
        "\n",
        "def get_bonus(years):\n",
        "    bonus = years * 1000  # Rs. 1000 per completed year\n",
        "    return bonus\n",
        "\n",
        "# Driver code\n",
        "years_of_service = int(input(\"Enter the number of years the employee has worked: \"))\n",
        "bonus_amount = get_bonus(years_of_service)\n",
        "print(f\"The employee's bonus is: Rs. {bonus_amount}\")\n"
      ],
      "metadata": {
        "id": "ty5OhKUkfXU-"
      },
      "execution_count": null,
      "outputs": []
    },
    {
      "cell_type": "code",
      "source": [
        "# Q2: Income Tax Calculation with Slabs\n",
        "\n",
        "def calculate_tax(income):\n",
        "    if income <= 200000:\n",
        "        tax = 0\n",
        "    elif income <= 500000:\n",
        "        tax = (income - 200000) * 0.05\n",
        "    else:\n",
        "        tax = (300000 * 0.05) + (income - 500000) * 0.10\n",
        "    return tax\n",
        "\n",
        "# Driver code\n",
        "annual_income = float(input(\"Enter your annual income: \"))\n",
        "tax_amount = calculate_tax(annual_income)\n",
        "print(f\"The calculated tax is: Rs. {tax_amount}\")\n"
      ],
      "metadata": {
        "id": "AIB2GjrbfcDl"
      },
      "execution_count": null,
      "outputs": []
    },
    {
      "cell_type": "code",
      "source": [
        "# Q3: Zakat Calculation on Gold\n",
        "\n",
        "def calculate_zakat(weight):\n",
        "    gold_price_per_gram = 8000\n",
        "    total_value = weight * gold_price_per_gram\n",
        "    zakat = total_value * 0.025  # 2.5% of total value\n",
        "    return zakat\n",
        "\n",
        "# Driver code\n",
        "gold_weight = float(input(\"Enter the weight of gold in grams: \"))\n",
        "zakat_amount = calculate_zakat(gold_weight)\n",
        "print(f\"The Zakat on your gold is: Rs. {zakat_amount}\")\n"
      ],
      "metadata": {
        "id": "uxpQcnorfoiw"
      },
      "execution_count": null,
      "outputs": []
    },
    {
      "cell_type": "code",
      "source": [
        "# Q4: Profit or Loss Percentage Calculation\n",
        "\n",
        "def calculate_profit_loss(cost_price, selling_price):\n",
        "    if selling_price > cost_price:\n",
        "        profit = selling_price - cost_price\n",
        "        profit_percent = (profit / cost_price) * 100\n",
        "        return profit_percent\n",
        "    elif selling_price < cost_price:\n",
        "        loss = cost_price - selling_price\n",
        "        loss_percent = (loss / cost_price) * 100\n",
        "        return -loss_percent  # negative for loss\n",
        "    else:\n",
        "        return 0  # No profit or loss\n",
        "\n",
        "# Driver code\n",
        "cp = float(input(\"Enter the Cost Price (CP): \"))\n",
        "sp = float(input(\"Enter the Selling Price (SP): \"))\n",
        "result = calculate_profit_loss(cp, sp)\n",
        "\n",
        "if result > 0:\n",
        "    print(f\"You made a profit of {result:.2f}%\")\n",
        "elif result < 0:\n",
        "    print(f\"You incurred a loss of {abs(result):.2f}%\")\n",
        "else:\n",
        "    print(\"No profit, no loss.\")\n"
      ],
      "metadata": {
        "id": "tDxdEysEfpTs"
      },
      "execution_count": null,
      "outputs": []
    },
    {
      "cell_type": "code",
      "source": [
        "# Q5: Calculate Discounted Price\n",
        "\n",
        "def calculate_discounted_price(price, discount_percent):\n",
        "    discount_amount = (discount_percent / 100) * price\n",
        "    final_price = price - discount_amount\n",
        "    return final_price\n",
        "\n",
        "# Driver code\n",
        "original_price = float(input(\"Enter the original price: Rs. \"))\n",
        "discount = float(input(\"Enter the discount percentage: \"))\n",
        "discounted_price = calculate_discounted_price(original_price, discount)\n",
        "\n",
        "print(f\"The final price after {discount}% discount is: Rs. {discounted_price:.2f}\")\n"
      ],
      "metadata": {
        "id": "9sjBE6QCfr2O"
      },
      "execution_count": null,
      "outputs": []
    },
    {
      "cell_type": "code",
      "source": [
        "# Q6: Electricity Bill Calculation with Slabs and Surcharge\n",
        "\n",
        "def calculate_basic_bill(units):\n",
        "    if units <= 100:\n",
        "        bill = units * 5\n",
        "    elif units <= 200:\n",
        "        bill = (100 * 5) + ((units - 100) * 7)\n",
        "    else:\n",
        "        bill = (100 * 5) + (100 * 7) + ((units - 200) * 10)\n",
        "    return bill\n",
        "\n",
        "def calculate_total_bill(basic_bill):\n",
        "    if basic_bill > 1500:\n",
        "        surcharge = basic_bill * 0.10  # 10% surcharge\n",
        "        total = basic_bill + surcharge\n",
        "    else:\n",
        "        total = basic_bill\n",
        "    return total\n",
        "\n",
        "# Driver code\n",
        "units_consumed = int(input(\"Enter the number of units consumed: \"))\n",
        "basic_bill = calculate_basic_bill(units_consumed)\n",
        "final_bill = calculate_total_bill(basic_bill)\n",
        "\n",
        "print(f\"Units Consumed      : {units_consumed}\")\n",
        "print(f\"Basic Bill Amount   : Rs. {basic_bill:.2f}\")\n",
        "print(f\"Total Payable Amount: Rs. {final_bill:.2f}\")\n"
      ],
      "metadata": {
        "id": "JD4Mk4TUf2Vw"
      },
      "execution_count": null,
      "outputs": []
    },
    {
      "cell_type": "code",
      "source": [
        "# Q1: Remove duplicates, sort descending, get 2nd largest\n",
        "\n",
        "numbers = [5, 2, 8, 5, 6, 2, 9, 8]\n",
        "unique_sorted = sorted(set(numbers), reverse=True)\n",
        "\n",
        "if len(unique_sorted) >= 2:\n",
        "    print(\"Second largest number is:\", unique_sorted[1])\n",
        "else:\n",
        "    print(\"Not enough unique elements to find the second largest.\")\n"
      ],
      "metadata": {
        "id": "d-MGAFm2f2cH"
      },
      "execution_count": null,
      "outputs": []
    },
    {
      "cell_type": "code",
      "source": [
        "# Q2: Merge two sorted lists\n",
        "\n",
        "list1 = [1, 3, 5, 7]\n",
        "list2 = [2, 4, 6, 8]\n",
        "merged_list = sorted(list1 + list2)\n",
        "\n",
        "print(\"Merged Sorted List:\", merged_list)\n"
      ],
      "metadata": {
        "id": "b9p3YSAZgXBX"
      },
      "execution_count": null,
      "outputs": []
    },
    {
      "cell_type": "code",
      "source": [
        "# Q3: Max, Min, Average of list\n",
        "\n",
        "numbers = [10, 20, 30, 40, 50]\n",
        "\n",
        "maximum = max(numbers)\n",
        "minimum = min(numbers)\n",
        "average = sum(numbers) / len(numbers)\n",
        "\n",
        "print(\"Maximum:\", maximum)\n",
        "print(\"Minimum:\", minimum)\n",
        "print(\"Average:\", average)\n"
      ],
      "metadata": {
        "id": "MBVAIWP2gaIJ"
      },
      "execution_count": null,
      "outputs": []
    },
    {
      "cell_type": "code",
      "source": [
        "# Q4: Sum of elements using loop\n",
        "\n",
        "numbers = [1, 2, 3, 4, 5]\n",
        "total = 0\n",
        "\n",
        "for num in numbers:\n",
        "    total += num\n",
        "\n",
        "print(\"Sum of elements:\", total)\n"
      ],
      "metadata": {
        "id": "il2BibZsgcYs"
      },
      "execution_count": null,
      "outputs": []
    },
    {
      "cell_type": "code",
      "source": [
        "# Q5: Count vowels and consonants\n",
        "\n",
        "def count_vowels_consonants(text):\n",
        "    vowels = \"aeiouAEIOU\"\n",
        "    vowel_count = 0\n",
        "    consonant_count = 0\n",
        "\n",
        "    for char in text:\n",
        "        if char.isalpha():\n",
        "            if char in vowels:\n",
        "                vowel_count += 1\n",
        "            else:\n",
        "                consonant_count += 1\n",
        "\n",
        "    return vowel_count, consonant_count\n",
        "\n",
        "# Driver code\n",
        "input_string = input(\"Enter a string: \")\n",
        "vowels, consonants = count_vowels_consonants(input_string)\n",
        "\n",
        "print(f\"Vowels: {vowels}\")\n",
        "print(f\"Consonants: {consonants}\")\n"
      ],
      "metadata": {
        "id": "ryK8_AjWgfEs"
      },
      "execution_count": null,
      "outputs": []
    },
    {
      "cell_type": "code",
      "source": [
        "# Q6: String cleanup\n",
        "\n",
        "import re\n",
        "\n",
        "text = input(\"Enter a string: \")\n",
        "text = text.replace(\" \", \"-\")           # Replace spaces with hyphens\n",
        "text = text.lower()                     # Convert to lowercase\n",
        "text = re.sub(r'\\d', '', text)          # Remove digits using regex\n",
        "\n",
        "print(\"Processed string:\", text)\n"
      ],
      "metadata": {
        "id": "dK0CJAudghdR"
      },
      "execution_count": null,
      "outputs": []
    },
    {
      "cell_type": "code",
      "source": [
        "# Q7: Sentence processing\n",
        "\n",
        "import string\n",
        "\n",
        "sentence = input(\"Enter a sentence: \")\n",
        "\n",
        "# Words in reverse order\n",
        "words = sentence.split()\n",
        "reversed_words = ' '.join(reversed(words))\n",
        "\n",
        "# Capitalize first letter of each word\n",
        "capitalized = sentence.title()\n",
        "\n",
        "# Remove punctuation\n",
        "cleaned = sentence.translate(str.maketrans('', '', string.punctuation))\n",
        "\n",
        "print(\"Reversed Words: \", reversed_words)\n",
        "print(\"Capitalized Words: \", capitalized)\n",
        "print(\"Without Punctuation: \", cleaned)\n"
      ],
      "metadata": {
        "id": "jr060b8tgspf"
      },
      "execution_count": null,
      "outputs": []
    },
    {
      "cell_type": "code",
      "source": [
        "# Q8: Student names and marks\n",
        "\n",
        "students = {}\n",
        "\n",
        "for i in range(5):\n",
        "    name = input(f\"Enter name of student {i+1}: \")\n",
        "    marks = float(input(f\"Enter marks of {name}: \"))\n",
        "    students[name] = marks\n",
        "\n",
        "print(\"\\nStudent Records:\")\n",
        "for name, marks in students.items():\n",
        "    print(f\"{name}: {marks}\")\n"
      ],
      "metadata": {
        "id": "9nV6kyGCgvDR"
      },
      "execution_count": null,
      "outputs": []
    },
    {
      "cell_type": "code",
      "source": [
        "# Q9: Merge dictionaries with value sum if keys match\n",
        "\n",
        "dict1 = {'a': 100, 'b': 200, 'c': 300}\n",
        "dict2 = {'b': 150, 'c': 100, 'd': 400}\n",
        "\n",
        "merged = dict1.copy()\n",
        "for key, value in dict2.items():\n",
        "    if key in merged:\n",
        "        merged[key] += value\n",
        "    else:\n",
        "        merged[key] = value\n",
        "\n",
        "print(\"Merged Dictionary:\", merged)\n"
      ],
      "metadata": {
        "id": "H4_9ZCN0gyBv"
      },
      "execution_count": null,
      "outputs": []
    },
    {
      "cell_type": "code",
      "source": [
        "# Q10: Remove key-value pairs if value is duplicated under another key\n",
        "\n",
        "data = {'a': 100, 'b': 200, 'c': 100, 'd': 300, 'e': 200}\n",
        "seen_values = set()\n",
        "cleaned = {}\n",
        "\n",
        "for key, value in data.items():\n",
        "    if value not in seen_values:\n",
        "        cleaned[key] = value\n",
        "        seen_values.add(value)\n",
        "\n",
        "print(\"Dictionary after removing duplicate values:\", cleaned)\n"
      ],
      "metadata": {
        "id": "BWxDcMDMg0i8"
      },
      "execution_count": null,
      "outputs": []
    },
    {
      "cell_type": "code",
      "source": [
        "# Q11: Nested dictionary with student marks\n",
        "\n",
        "students = {\n",
        "    'Ali': {'Math': 80, 'Science': 90, 'English': 85},\n",
        "    'Sara': {'Math': 75, 'Science': 95, 'English': 70},\n",
        "    'John': {'Math': 60, 'Science': 65, 'English': 80}\n",
        "}\n",
        "\n",
        "for name, subjects in students.items():\n",
        "    avg = sum(subjects.values()) / len(subjects)\n",
        "    print(f\"{name}'s Average Marks: {avg:.2f}\")\n"
      ],
      "metadata": {
        "id": "jtwHrsHmg3Mk"
      },
      "execution_count": null,
      "outputs": []
    },
    {
      "cell_type": "code",
      "source": [
        "# Q12: Update product price in dictionary\n",
        "\n",
        "products = {\n",
        "    'Laptop': 70000,\n",
        "    'Mouse': 1500,\n",
        "    'Keyboard': 2500,\n",
        "    'Monitor': 20000\n",
        "}\n",
        "\n",
        "product_name = input(\"Enter the product name to update: \")\n",
        "\n",
        "if product_name in products:\n",
        "    new_price = float(input(f\"Enter new price for {product_name}: \"))\n",
        "    products[product_name] = new_price\n",
        "    print(\"Updated product list:\", products)\n",
        "else:\n",
        "    print(\"Error: Product not found in the list.\")\n"
      ],
      "metadata": {
        "colab": {
          "base_uri": "https://localhost:8080/"
        },
        "id": "ukV95pX9g56H",
        "outputId": "98b0a78e-c6da-431f-fc55-79166581fee9"
      },
      "execution_count": 5,
      "outputs": [
        {
          "output_type": "stream",
          "name": "stdout",
          "text": [
            "Enter the product name to update: Monitor\n",
            "Enter new price for Monitor: 25000\n",
            "Updated product list: {'Laptop': 70000, 'Mouse': 1500, 'Keyboard': 2500, 'Monitor': 25000.0}\n"
          ]
        }
      ]
    }
  ]
}