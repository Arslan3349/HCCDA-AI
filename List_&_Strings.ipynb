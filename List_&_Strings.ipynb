{
  "nbformat": 4,
  "nbformat_minor": 0,
  "metadata": {
    "colab": {
      "provenance": []
    },
    "kernelspec": {
      "name": "python3",
      "display_name": "Python 3"
    },
    "language_info": {
      "name": "python"
    }
  },
  "cells": [
    {
      "cell_type": "code",
      "execution_count": null,
      "metadata": {
        "id": "mZFSTBRbwtHP"
      },
      "outputs": [],
      "source": [
        "# Python program to perform operations on a list of numbers\n",
        "\n",
        "# Take input from the user\n",
        "input_str = input(\"Enter a list of numbers separated by spaces: \")\n",
        "\n",
        "# Convert input string to a list of floats (or ints)\n",
        "numbers = list(map(float, input_str.split()))\n",
        "\n",
        "# Check if the list is not empty\n",
        "if numbers:\n",
        "    # Find maximum and minimum values\n",
        "    max_val = max(numbers)\n",
        "    min_val = min(numbers)\n",
        "\n",
        "    # Calculate sum and average\n",
        "    total_sum = sum(numbers)\n",
        "    average = total_sum / len(numbers)\n",
        "\n",
        "    # Display the results\n",
        "    print(f\"\\nMaximum value: {max_val}\")\n",
        "    print(f\"Minimum value: {min_val}\")\n",
        "    print(f\"Sum of all elements: {total_sum}\")\n",
        "    print(f\"Average of elements: {average}\")\n",
        "else:\n",
        "    print(\"The list is empty. Please enter valid numbers.\")\n"
      ]
    },
    {
      "cell_type": "code",
      "source": [
        "# Python program to process a list of 10 integers\n",
        "\n",
        "# Input 10 integers from the user\n",
        "numbers = []\n",
        "print(\"Enter 10 integers:\")\n",
        "\n",
        "for i in range(10):\n",
        "    num = int(input(f\"Enter number {i+1}: \"))\n",
        "    numbers.append(num)\n",
        "\n",
        "# Display even numbers\n",
        "even_numbers = [n for n in numbers if n % 2 == 0]\n",
        "\n",
        "# Display odd numbers\n",
        "odd_numbers = [n for n in numbers if n % 2 != 0]\n",
        "\n",
        "# Count numbers divisible by 5\n",
        "div_by_5_count = sum(1 for n in numbers if n % 5 == 0)\n",
        "\n",
        "# Output the results\n",
        "print(\"\\nEven numbers:\", even_numbers)\n",
        "print(\"Odd numbers:\", odd_numbers)\n",
        "print(\"Count of numbers divisible by 5:\", div_by_5_count)\n"
      ],
      "metadata": {
        "id": "ta4jaH9Xxkuw"
      },
      "execution_count": null,
      "outputs": []
    },
    {
      "cell_type": "code",
      "source": [
        "def reverse_list(input_list):\n",
        "    reversed_list = []\n",
        "    for i in range(len(input_list) - 1, -1, -1):\n",
        "        reversed_list.append(input_list[i])\n",
        "    return reversed_list\n",
        "\n",
        "# Example usage\n",
        "original_list = [10, 20, 30, 40, 50]\n",
        "reversed_result = reverse_list(original_list)\n",
        "\n",
        "print(\"Original list:\", original_list)\n",
        "print(\"Reversed list:\", reversed_result)\n"
      ],
      "metadata": {
        "id": "IYKYRSHLxv0Y"
      },
      "execution_count": null,
      "outputs": []
    },
    {
      "cell_type": "code",
      "source": [
        "def process_names(names_list):\n",
        "    # Sort names alphabetically\n",
        "    sorted_names = sorted(names_list, key=lambda x: x.lower())\n",
        "\n",
        "    # Find the longest name\n",
        "    longest_name = max(names_list, key=len)\n",
        "\n",
        "    # Count names starting with a vowel\n",
        "    vowels = ('a', 'e', 'i', 'o', 'u')\n",
        "    vowel_count = sum(1 for name in names_list if name and name[0].lower() in vowels)\n",
        "\n",
        "    # Display results\n",
        "    print(\"Sorted names:\", sorted_names)\n",
        "    print(\"Longest name:\", longest_name)\n",
        "    print(\"Number of names starting with a vowel:\", vowel_count)\n",
        "\n",
        "# Example usage\n",
        "names = [\"Alice\", \"Ethan\", \"Umair\", \"Oscar\", \"Bob\", \"Ian\", \"Charlie\", \"Zara\", \"Eva\", \"David\"]\n",
        "process_names(names)\n"
      ],
      "metadata": {
        "id": "1-NWXMmix8hR"
      },
      "execution_count": null,
      "outputs": []
    },
    {
      "cell_type": "code",
      "source": [
        "def merge_lists(list1, list2):\n",
        "    merged_list = []\n",
        "\n",
        "    # Append elements from the first list\n",
        "    for item in list1:\n",
        "        merged_list.append(item)\n",
        "\n",
        "    # Append elements from the second list\n",
        "    for item in list2:\n",
        "        merged_list.append(item)\n",
        "\n",
        "    return merged_list\n",
        "\n",
        "# Example usage\n",
        "list_a = [1, 2, 3]\n",
        "list_b = [4, 5, 6]\n",
        "result = merge_lists(list_a, list_b)\n",
        "\n",
        "print(\"Merged list:\", result)\n"
      ],
      "metadata": {
        "id": "h3W9PJ4byFgI"
      },
      "execution_count": null,
      "outputs": []
    },
    {
      "cell_type": "code",
      "source": [
        "# Take input from the user\n",
        "user_input = input(\"Enter a string: \")\n",
        "\n",
        "# Convert to uppercase\n",
        "uppercase = user_input.upper()\n",
        "\n",
        "# Convert to lowercase\n",
        "lowercase = user_input.lower()\n",
        "\n",
        "# Count vowels (case-insensitive)\n",
        "vowels = 'aeiou'\n",
        "vowel_count = sum(1 for char in user_input.lower() if char in vowels)\n",
        "\n",
        "# Display the results\n",
        "print(\"\\nUppercase:\", uppercase)\n",
        "print(\"Lowercase:\", lowercase)\n",
        "print(\"Number of vowels:\", vowel_count)\n"
      ],
      "metadata": {
        "id": "Nw9RK8_NyNDL"
      },
      "execution_count": null,
      "outputs": []
    },
    {
      "cell_type": "code",
      "source": [
        "def is_palindrome(s):\n",
        "    # Remove spaces and convert to lowercase for uniformity\n",
        "    cleaned = ''.join(s.split()).lower()\n",
        "\n",
        "    # Compare original with reversed version\n",
        "    return cleaned == ''.join(reversed(cleaned))\n",
        "\n",
        "# Example usage\n",
        "word = input(\"Enter a string to check if it's a palindrome: \")\n",
        "\n",
        "if is_palindrome(word):\n",
        "    print(\"Yes, it's a palindrome!\")\n",
        "else:\n",
        "    print(\"No, it's not a palindrome.\")\n"
      ],
      "metadata": {
        "id": "xJsPwtW2yUxb"
      },
      "execution_count": null,
      "outputs": []
    },
    {
      "cell_type": "code",
      "source": [
        "# Take input from the user\n",
        "sentence = input(\"Enter a sentence: \")\n",
        "\n",
        "# Split the sentence into words\n",
        "words = sentence.split()\n",
        "\n",
        "# Count the number of words\n",
        "word_count = len(words)\n",
        "\n",
        "# Reverse the order of words\n",
        "reversed_words = []\n",
        "for i in range(len(words)-1, -1, -1):\n",
        "    reversed_words.append(words[i])\n",
        "reversed_sentence = ' '.join(reversed_words)\n",
        "\n",
        "# Display the results\n",
        "print(\"\\nOriginal sentence:\", sentence)\n",
        "print(\"Number of words:\", word_count)\n",
        "print(\"Reversed sentence:\", reversed_sentence)\n"
      ],
      "metadata": {
        "id": "MLOg1rXOybMR"
      },
      "execution_count": null,
      "outputs": []
    },
    {
      "cell_type": "code",
      "source": [
        "def count_character_frequency(text):\n",
        "    # Convert to lowercase and remove spaces\n",
        "    cleaned_text = text.lower().replace(\" \", \"\")\n",
        "\n",
        "    # Dictionary to store character frequencies\n",
        "    frequency = {}\n",
        "\n",
        "    for char in cleaned_text:\n",
        "        if char in frequency:\n",
        "            frequency[char] += 1\n",
        "        else:\n",
        "            frequency[char] = 1\n",
        "\n",
        "    # Display the frequency of each character\n",
        "    print(\"\\nCharacter frequencies:\")\n",
        "    for char, count in frequency.items():\n",
        "        print(f\"{char}: {count}\")\n",
        "\n",
        "# Example usage\n",
        "input_str = input(\"Enter a string: \")\n",
        "count_character_frequency(input_str)\n"
      ],
      "metadata": {
        "id": "ejbOmnoLyj4e"
      },
      "execution_count": null,
      "outputs": []
    },
    {
      "cell_type": "code",
      "source": [
        "def remove_special_characters_and_digits(text):\n",
        "    # Keep only alphabetic characters\n",
        "    cleaned = ''.join(char for char in text if char.isalpha())\n",
        "    return cleaned\n",
        "\n",
        "# Example usage\n",
        "input_str = input(\"Enter a string: \")\n",
        "result = remove_special_characters_and_digits(input_str)\n",
        "\n",
        "print(\"Cleaned string:\", result)\n"
      ],
      "metadata": {
        "id": "QxtsZdjqyquk"
      },
      "execution_count": null,
      "outputs": []
    }
  ]
}