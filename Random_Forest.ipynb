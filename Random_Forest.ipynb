{
  "nbformat": 4,
  "nbformat_minor": 0,
  "metadata": {
    "colab": {
      "provenance": []
    },
    "kernelspec": {
      "name": "python3",
      "display_name": "Python 3"
    },
    "language_info": {
      "name": "python"
    }
  },
  "cells": [
    {
      "cell_type": "code",
      "execution_count": null,
      "metadata": {
        "colab": {
          "base_uri": "https://localhost:8080/"
        },
        "id": "jhgJVnR9a8ac",
        "outputId": "57641e40-a85b-4dae-876a-521502d64f9c"
      },
      "outputs": [
        {
          "output_type": "stream",
          "name": "stdout",
          "text": [
            "Random Forest Model Accuracy: 1.00\n",
            "Feature: sepal length (cm), Importance: 0.1041\n",
            "Feature: sepal width (cm), Importance: 0.0446\n",
            "Feature: petal length (cm), Importance: 0.4173\n",
            "Feature: petal width (cm), Importance: 0.4340\n"
          ]
        }
      ],
      "source": [
        "# Importing necessary libraries\n",
        "from sklearn.datasets import load_iris\n",
        "from sklearn.model_selection import train_test_split\n",
        "from sklearn.ensemble import RandomForestClassifier\n",
        "from sklearn.metrics import accuracy_score\n",
        "\n",
        "# Load the Iris dataset\n",
        "data = load_iris()\n",
        "X = data.data\n",
        "y = data.target\n",
        "\n",
        "# Split the dataset into training and testing sets\n",
        "X_train, X_test, y_train, y_test = train_test_split(X, y, test_size=0.3, random_state=42)\n",
        "\n",
        "# Initialize the Random Forest model\n",
        "rf_model = RandomForestClassifier(n_estimators=100, random_state=42)\n",
        "\n",
        "# Train the model\n",
        "rf_model.fit(X_train, y_train)\n",
        "\n",
        "# Make predictions\n",
        "y_pred = rf_model.predict(X_test)\n",
        "\n",
        "# Calculate the accuracy of the model\n",
        "accuracy = accuracy_score(y_test, y_pred)\n",
        "\n",
        "print(f'Random Forest Model Accuracy: {accuracy:.2f}')\n",
        "\n",
        "# Displaying feature importance\n",
        "importances = rf_model.feature_importances_\n",
        "feature_names = data.feature_names\n",
        "for feature, importance in zip(feature_names, importances):\n",
        "    print(f'Feature: {feature}, Importance: {importance:.4f}')\n"
      ]
    }
  ]
}