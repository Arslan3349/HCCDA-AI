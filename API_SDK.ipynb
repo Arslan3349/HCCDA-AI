{
  "nbformat": 4,
  "nbformat_minor": 0,
  "metadata": {
    "colab": {
      "provenance": []
    },
    "kernelspec": {
      "name": "python3",
      "display_name": "Python 3"
    },
    "language_info": {
      "name": "python"
    }
  },
  "cells": [
    {
      "cell_type": "code",
      "execution_count": null,
      "metadata": {
        "colab": {
          "base_uri": "https://localhost:8080/"
        },
        "id": "cRAKp61J1S1h",
        "outputId": "cee83ee8-b2fd-4f68-8f6c-5280b5d9678a"
      },
      "outputs": [
        {
          "output_type": "stream",
          "name": "stdout",
          "text": [
            "✅ API call successful.\n",
            "No volumes found in this region.\n"
          ]
        }
      ],
      "source": [
        "# ✅ Step 1: Install Huawei Cloud SDK packages\n",
        "# !pip install huaweicloudsdkcore\n",
        "# !pip install huaweicloudsdkevs\n",
        "\n",
        "# ✅ Step 2: Import required modules\n",
        "from huaweicloudsdkcore.auth.credentials import BasicCredentials\n",
        "from huaweicloudsdkcore.exceptions import exceptions\n",
        "from huaweicloudsdkevs.v2 import *\n",
        "from huaweicloudsdkevs.v2.region.evs_region import EvsRegion\n",
        "\n",
        "# ✅ Step 3: Provide your credentials (replace with your actual values)\n",
        "ak = \"HPUA4NNAETFAZJXEBJ0T\"\n",
        "sk = \"fy42q5jeboXLTN1ojBXRAhpA7388SmUDvP4HpLaH\"\n",
        "project_id = \"d21aee787b7541a08d48b4f0402791b9\"\n",
        "region = \"ap-southeast-3\"\n",
        "\n",
        "# ✅ Step 4: Create a credentials object\n",
        "credentials = BasicCredentials(ak, sk, project_id)\n",
        "\n",
        "# ✅ Step 5: Create the EVS client\n",
        "client = EvsClient.new_builder() \\\n",
        "    .with_credentials(credentials) \\\n",
        "    .with_region(EvsRegion.value_of(region)) \\\n",
        "    .build()\n",
        "\n",
        "# ✅ Step 6: Call an API (List Volumes)\n",
        "try:\n",
        "    request = ListVolumesRequest()\n",
        "    response = client.list_volumes(request)\n",
        "\n",
        "    print(\"✅ API call successful.\")\n",
        "    if response.volumes:\n",
        "        for volume in response.volumes:\n",
        "            print(f\"- Volume Name: {volume.name}, ID: {volume.id}\")\n",
        "    else:\n",
        "        print(\"No volumes found in this region.\")\n",
        "\n",
        "except exceptions.ClientRequestException as e:\n",
        "    print(f\"❌ Client error: {e.status_code} - {e.error_msg}\")\n",
        "except exceptions.ServerResponseException as e:\n",
        "    print(f\"❌ Server error: {e.status_code} - {e.error_msg}\")\n",
        "except exceptions.ConnectionException as e:\n",
        "    print(\"❌ Network error:\", str(e))\n"
      ]
    },
    {
      "cell_type": "code",
      "source": [
        "import requests\n",
        "\n",
        "url = \"https://ocr.ap-southeast-3.myhuaweicloud.com/v1.0/ocr/general-table\"\n",
        "\n",
        "headers = {\n",
        "    \"Content-Type\": \"application/json\",\n",
        "    \"X-Auth-Token\": \"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-zpinzj4jLMHfc2M9vnQ-ccVxoHtfUzKI50YldXWc+bTkhIuUzTY-FIdfj1-DGbdCJn8JZW2dYavdKosdE31zxgadlnOTijBGp516JcgxrfQQ7rbAFjeUC9ZYJybaJB9NGoD36id4r0DEzSU1Aam8zHuOp9hlkj8dnvwfAl50J4xn8BtMSXXfTA0Fjj2ucjdW69B4A-0hm3gdEhTJsALI0cGzCU+EMDgXyJxNjtocykMr3aVx5+CwLTeOPrvL2qILgw5rFUX4rJ8WU1MMtMqcLdnZSpSs-US7Hpu9GxAauC2FXbF2ErgWCZX6jnF\"\n",
        "}\n",
        "\n",
        "body = {\n",
        "    \"url\": \"https://i.sstatic.net/JWAn1.png\",\n",
        "    \"return_confidence\": True\n",
        "}\n",
        "\n",
        "response = requests.post(url, headers=headers, json=body)\n",
        "print(response.json())\n"
      ],
      "metadata": {
        "colab": {
          "base_uri": "https://localhost:8080/"
        },
        "id": "3mOQaGjDU_w4",
        "outputId": "0c0cf12e-1aeb-450b-bd4a-7e6cbd52a1ce"
      },
      "execution_count": null,
      "outputs": [
        {
          "output_type": "stream",
          "name": "stdout",
          "text": [
            "{'error_msg': 'The API does not exist or has not been published in the environment', 'error_code': 'APIG.0101', 'request_id': 'fb112be8a86f1ea07ef3a08869f5b273'}\n"
          ]
        }
      ]
    }
  ]
}