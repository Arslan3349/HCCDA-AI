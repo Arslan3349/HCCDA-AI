{
  "nbformat": 4,
  "nbformat_minor": 0,
  "metadata": {
    "colab": {
      "provenance": []
    },
    "kernelspec": {
      "name": "python3",
      "display_name": "Python 3"
    },
    "language_info": {
      "name": "python"
    }
  },
  "cells": [
    {
      "cell_type": "code",
      "execution_count": null,
      "metadata": {
        "id": "tMFJPaw8J6MH"
      },
      "outputs": [],
      "source": [
        "# Program to print all even numbers from 1 to 20 using for loop\n",
        "\n",
        "for num in range(1, 21):\n",
        "    if num % 2 == 0:\n",
        "        print(num)\n"
      ]
    },
    {
      "cell_type": "code",
      "source": [
        "# Program to print numbers from 10 to 1 using while loop\n",
        "\n",
        "num = 10\n",
        "\n",
        "while num >= 1:\n",
        "    print(num)\n",
        "    num -= 1\n"
      ],
      "metadata": {
        "id": "GxvzazDHLGl6"
      },
      "execution_count": null,
      "outputs": []
    },
    {
      "cell_type": "code",
      "source": [
        "for i in range(1, 6):\n",
        "    print(i ** 2)\n"
      ],
      "metadata": {
        "id": "C19NQa4TLWFb"
      },
      "execution_count": null,
      "outputs": []
    },
    {
      "cell_type": "code",
      "source": [
        "# Ask the user to enter a number\n",
        "num = int(input(\"Enter a number: \"))\n",
        "\n",
        "factorial = 1\n",
        "i = 1\n",
        "\n",
        "while i <= num:\n",
        "    factorial *= i\n",
        "    i += 1\n",
        "\n",
        "print(f\"The factorial of {num} is {factorial}\")\n"
      ],
      "metadata": {
        "id": "hW4F27GLLx2h"
      },
      "execution_count": null,
      "outputs": []
    },
    {
      "cell_type": "code",
      "source": [
        "for char in \"Programming\":\n",
        "    if char == 'g':\n",
        "        continue\n",
        "    print(char)\n"
      ],
      "metadata": {
        "id": "_faGz0-jL9gG"
      },
      "execution_count": null,
      "outputs": []
    },
    {
      "cell_type": "code",
      "source": [
        "for num in range(1, 11):\n",
        "    if num > 6:\n",
        "        break\n",
        "    print(num)\n"
      ],
      "metadata": {
        "id": "S-k_VXr9Mst6"
      },
      "execution_count": null,
      "outputs": []
    },
    {
      "cell_type": "code",
      "source": [
        "num = float(input(\"Enter a number: \"))\n",
        "\n",
        "if num > 0:\n",
        "    print(\"The number is positive.\")\n",
        "elif num < 0:\n",
        "    print(\"The number is negative.\")\n",
        "else:\n",
        "    print(\"The number is zero.\")\n"
      ],
      "metadata": {
        "id": "cw48abJqM0jA"
      },
      "execution_count": null,
      "outputs": []
    },
    {
      "cell_type": "code",
      "source": [
        "num = int(input(\"Enter a number to print its multiplication table: \"))\n",
        "\n",
        "for i in range(1, 11):\n",
        "    print(f\"{num} x {i} = {num * i}\")\n"
      ],
      "metadata": {
        "id": "iEMJN1ZFM_aG"
      },
      "execution_count": null,
      "outputs": []
    },
    {
      "cell_type": "code",
      "source": [
        "num = int(input(\"Enter a number (1 to 7): \"))\n",
        "\n",
        "if num == 1:\n",
        "    print(\"Sunday\")\n",
        "elif num == 2:\n",
        "    print(\"Monday\")\n",
        "elif num == 3:\n",
        "    print(\"Tuesday\")\n",
        "elif num == 4:\n",
        "    print(\"Wednesday\")\n",
        "elif num == 5:\n",
        "    print(\"Thursday\")\n",
        "elif num == 6:\n",
        "    print(\"Friday\")\n",
        "elif num == 7:\n",
        "    print(\"Saturday\")\n",
        "else:\n",
        "    print(\"Invalid input! Please enter a number between 1 and 7.\")\n"
      ],
      "metadata": {
        "id": "falxVld0NFuG"
      },
      "execution_count": null,
      "outputs": []
    },
    {
      "cell_type": "code",
      "source": [
        "password = \"\"\n",
        "\n",
        "while password != \"python123\":\n",
        "    password = input(\"Enter the password: \")\n",
        "\n",
        "print(\"Password accepted!\")\n"
      ],
      "metadata": {
        "colab": {
          "base_uri": "https://localhost:8080/"
        },
        "id": "lyrRIjcINNnI",
        "outputId": "1945c4da-cd5d-4c55-8d5e-e23ba47576eb"
      },
      "execution_count": 1,
      "outputs": [
        {
          "output_type": "stream",
          "name": "stdout",
          "text": [
            "Enter the password: 123\n",
            "Enter the password: python123\n",
            "Password accepted!\n"
          ]
        }
      ]
    }
  ]
}